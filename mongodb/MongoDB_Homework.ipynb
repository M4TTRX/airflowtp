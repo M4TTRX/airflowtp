{
 "cells": [
  {
   "cell_type": "markdown",
   "metadata": {},
   "source": [
    "# Week 4: Document-Based Stores (MongoDB)\n",
    "### Student ID: [#####]\n",
    "### Subtasks Done: [#,#,..]"
   ]
  },
  {
   "cell_type": "markdown",
   "metadata": {},
   "source": [
    "### Task 1: Create a simple MongoDB out of this relational model"
   ]
  },
  {
   "cell_type": "markdown",
   "metadata": {},
   "source": [
    "This is  a toy DB about movies and actors who played roles in these movies. This DB is consisted of  \n",
    "\n",
    "- A \"Person\" table who has a unique id, and a name fields.\n",
    "\n",
    "- Another \"Movie\" table that has a unique id, a title, a country where it was made, and a year when it was released.\n",
    "\n",
    "- There is (m-n) or \"many-many\" relationship between these two tables (i.e basically, many actors can act in many movies, and the movie include many actors)\n",
    "- Therefore, we use the \"Roles\" table in which we can deduct which person has acted in which movie, and what role(s) they played.\n",
    "\n",
    "<img src=\"RDBSchema.png\" alt=\"3\" border=\"0\">"
   ]
  },
  {
   "cell_type": "markdown",
   "metadata": {},
   "source": [
    "#### Connect to the MongoDB server, and create a mongoDB with the name 'moviedb'"
   ]
  },
  {
   "cell_type": "code",
   "execution_count": 110,
   "metadata": {},
   "outputs": [],
   "source": [
    "from pymongo import MongoClient\n",
    "from random import randint\n",
    "from pprint import pprint\n",
    "\n",
    "import warnings\n",
    "warnings.filterwarnings('ignore')\n",
    "\n",
    "DB_URL = \"mongodb://mongo:27017/\""
   ]
  },
  {
   "cell_type": "code",
   "execution_count": 111,
   "metadata": {},
   "outputs": [],
   "source": [
    "db_client = MongoClient(DB_URL)\n",
    "movie_db = db_client[\"moviedb\"]"
   ]
  },
  {
   "cell_type": "markdown",
   "metadata": {},
   "source": [
    "#### Create Person/Actor collection"
   ]
  },
  {
   "cell_type": "code",
   "execution_count": 112,
   "metadata": {},
   "outputs": [],
   "source": [
    "actor_col = movie_db[\"Actors\"]"
   ]
  },
  {
   "cell_type": "markdown",
   "metadata": {},
   "source": [
    "#### Insert the data into the Person Table"
   ]
  },
  {
   "cell_type": "code",
   "execution_count": 113,
   "metadata": {},
   "outputs": [],
   "source": [
    "personList = [\n",
    "  { \"id\": 1, \"name\": \"Charlie Sheen\" },\n",
    "  { \"id\": 2, \"name\": \"Michael Douglas\"},\n",
    "  { \"id\": 3, \"name\": \"Martin Sheen\"},\n",
    "  { \"id\": 4, \"name\": \"Morgan Freeman\"}\n",
    "]\n",
    "\n",
    "customers = movie_db.Actors.insert_many(personList)\n",
    "\n"
   ]
  },
  {
   "cell_type": "markdown",
   "metadata": {},
   "source": [
    "#### Creating rest of Collections (\"Movies\", \"Roles\")"
   ]
  },
  {
   "cell_type": "code",
   "execution_count": 114,
   "metadata": {},
   "outputs": [],
   "source": [
    "restcols = [\"Movies\",\"Roles\"]\n",
    "\n",
    "for col in restcols:\n",
    "    movie_db[col]"
   ]
  },
  {
   "cell_type": "markdown",
   "metadata": {},
   "source": [
    "#### Inserting data into the movie Collection"
   ]
  },
  {
   "cell_type": "code",
   "execution_count": 115,
   "metadata": {},
   "outputs": [
    {
     "data": {
      "text/plain": [
       "<pymongo.results.InsertManyResult at 0x7fa1712c37f0>"
      ]
     },
     "execution_count": 115,
     "metadata": {},
     "output_type": "execute_result"
    }
   ],
   "source": [
    "moviescoll = movie_db.Movies\n",
    "\n",
    "movieList = [\n",
    "  { \"id\": 1, \"title\": \"Wall Street\", \"country\":\"USA\",\"year\":1987},\n",
    "  { \"id\": 2, \"title\": \"The American President\", \"country\":\"USA\",\"year\":1995},\n",
    "  { \"id\": 3, \"title\": \"The Shawshank Redemption\", \"country\":\"USA\",\"year\":1994},\n",
    "]\n",
    "\n",
    "movie_db.Movies.insert_many(movieList)\n"
   ]
  },
  {
   "cell_type": "markdown",
   "metadata": {},
   "source": [
    "#### Inserting data into the roles Collection"
   ]
  },
  {
   "cell_type": "code",
   "execution_count": 116,
   "metadata": {},
   "outputs": [
    {
     "data": {
      "text/plain": [
       "<pymongo.results.InsertManyResult at 0x7fa17023c850>"
      ]
     },
     "execution_count": 116,
     "metadata": {},
     "output_type": "execute_result"
    }
   ],
   "source": [
    "rolesCol = movie_db.Roles\n",
    "\n",
    "roleList = [\n",
    "  { \"personId\": 1, \"movieId\": 1, \"role\":[\"Bud Fox\"]},\n",
    "  { \"personId\": 2, \"movieId\": 1, \"role\":[\"Carl Fox\"]},\n",
    "  { \"personId\": 3, \"movieId\": 1, \"role\":[\"Gordon Gekko\"]},\n",
    "  { \"personId\": 2, \"movieId\": 2, \"role\":[\"A.J. MacInerney\"]},\n",
    "  { \"personId\": 3, \"movieId\": 2, \"role\":[\"President Andrew Shepherd\"]},\n",
    "  { \"personId\": 4, \"movieId\": 3, \"role\":[\"Ellis Boyd 'Red' Redding\"]}\n",
    "]\n",
    "\n",
    "movie_db.Roles.insert_many(roleList)"
   ]
  },
  {
   "cell_type": "markdown",
   "metadata": {},
   "source": [
    "### <font color ='green'>Just for your info</font>:\n",
    "\n",
    "#### Another Way of Modeling this M-N model in Mongo would be using the Forien Keys \n",
    "\n",
    "\n",
    "* Movies\n",
    "\n",
    "\n",
    "```[\n",
    "\n",
    "{\n",
    "\t\"_id\": 1,\n",
    "\t\"title\":\"Wall Street\",\n",
    "\t\"country\":\"USA\",\n",
    "\t\"year\":1987,\n",
    "\t\"persons\":[1,2]\n",
    "},\n",
    "\n",
    "{\n",
    "\t\"_id\": 2,\n",
    "\t\"title\":\"The American President\",\n",
    "\t\"country\":\"USA\",\n",
    "\t\"year\":1995,\n",
    "\t\"persons\":[2]\n",
    "}]\n",
    "```\n",
    "* Actors\n",
    "\n",
    "```\n",
    "[{\n",
    "    \"_id\": 1,\n",
    "    \"name\": \"Charlie Sheen\",\n",
    "    \"movies\":[\n",
    "    {\"role\": \"Bud Fox\", \"movie_id\":1}\n",
    "    ]\n",
    "},\n",
    "\n",
    "{\n",
    "    \"_id\": 2,\n",
    "    \"name\": \"Micheal Douglas\",\n",
    "    \"movies\":[\n",
    "    {\"role\": \"Gordon Geko\", \"movie_id\":1},\n",
    "    {\"role\": \"President Andrew Shepherd\", \"movie_id\":2}\n",
    "    ]\n",
    "}\n",
    "\n",
    "] ```\n"
   ]
  },
  {
   "cell_type": "markdown",
   "metadata": {},
   "source": [
    "#### Get all actors in your Mongo DB"
   ]
  },
  {
   "cell_type": "code",
   "execution_count": 117,
   "metadata": {},
   "outputs": [
    {
     "name": "stdout",
     "output_type": "stream",
     "text": [
      "{'_id': ObjectId('634dee5dfa216a20123e72dd'), 'id': 1, 'name': 'Charlie Sheen'}\n",
      "{'_id': ObjectId('634dee5dfa216a20123e72de'), 'id': 2, 'name': 'Michael Douglas'}\n",
      "{'_id': ObjectId('634dee5dfa216a20123e72df'), 'id': 3, 'name': 'Martin Sheen'}\n",
      "{'_id': ObjectId('634dee5dfa216a20123e72e0'), 'id': 4, 'name': 'Morgan Freeman'}\n",
      "{'_id': ObjectId('634e4a12fa216a20123e72eb'), 'id': 1, 'name': 'Charlie Sheen'}\n",
      "{'_id': ObjectId('634e4a12fa216a20123e72ec'), 'id': 2, 'name': 'Michael Douglas'}\n",
      "{'_id': ObjectId('634e4a12fa216a20123e72ed'), 'id': 3, 'name': 'Martin Sheen'}\n",
      "{'_id': ObjectId('634e4a12fa216a20123e72ee'), 'id': 4, 'name': 'Morgan Freeman'}\n",
      "{'_id': ObjectId('634e4a2cfa216a20123e72f9'), 'id': 1, 'name': 'Charlie Sheen'}\n",
      "{'_id': ObjectId('634e4a2cfa216a20123e72fa'), 'id': 2, 'name': 'Michael Douglas'}\n",
      "{'_id': ObjectId('634e4a2cfa216a20123e72fb'), 'id': 3, 'name': 'Martin Sheen'}\n",
      "{'_id': ObjectId('634e4a2cfa216a20123e72fc'), 'id': 4, 'name': 'Morgan Freeman'}\n",
      "{'_id': ObjectId('634e52bcfa216a20123e7307'), 'id': 1, 'name': 'Charlie Sheen'}\n",
      "{'_id': ObjectId('634e52bcfa216a20123e7308'), 'id': 2, 'name': 'Michael Douglas'}\n",
      "{'_id': ObjectId('634e52bcfa216a20123e7309'), 'id': 3, 'name': 'Martin Sheen'}\n",
      "{'_id': ObjectId('634e52bcfa216a20123e730a'), 'id': 4, 'name': 'Morgan Freeman'}\n"
     ]
    }
   ],
   "source": [
    "actors = movie_db.Actors.find()\n",
    "print_all(actors)"
   ]
  },
  {
   "cell_type": "markdown",
   "metadata": {},
   "source": [
    "#### Get actors with names start with 'C' letter"
   ]
  },
  {
   "cell_type": "code",
   "execution_count": 118,
   "metadata": {},
   "outputs": [
    {
     "name": "stdout",
     "output_type": "stream",
     "text": [
      "{'_id': ObjectId('634dee5dfa216a20123e72dd'), 'id': 1, 'name': 'Charlie Sheen'}\n",
      "{'_id': ObjectId('634e4a12fa216a20123e72eb'), 'id': 1, 'name': 'Charlie Sheen'}\n",
      "{'_id': ObjectId('634e4a2cfa216a20123e72f9'), 'id': 1, 'name': 'Charlie Sheen'}\n",
      "{'_id': ObjectId('634e52bcfa216a20123e7307'), 'id': 1, 'name': 'Charlie Sheen'}\n"
     ]
    }
   ],
   "source": [
    "actors_in_c = movie_db.Actors.find({\"name\": {'$regex': '^C' }})\n",
    "# rpoblem here\n",
    "print_all(actors_in_c)"
   ]
  },
  {
   "cell_type": "markdown",
   "metadata": {},
   "source": [
    "#### Get all Movies sorted from recent to old! (get only the title and year fields)"
   ]
  },
  {
   "cell_type": "code",
   "execution_count": 119,
   "metadata": {},
   "outputs": [
    {
     "name": "stdout",
     "output_type": "stream",
     "text": [
      "{'_id': ObjectId('634dee98fa216a20123e72e2'), 'title': 'The American President', 'year': 1995}\n",
      "{'_id': ObjectId('634e4a12fa216a20123e72f0'), 'title': 'The American President', 'year': 1995}\n",
      "{'_id': ObjectId('634e4a2cfa216a20123e72fe'), 'title': 'The American President', 'year': 1995}\n",
      "{'_id': ObjectId('634e52bcfa216a20123e730c'), 'title': 'The American President', 'year': 1995}\n",
      "{'_id': ObjectId('634dee98fa216a20123e72e3'), 'title': 'The Shawshank Redemption', 'year': 1994}\n",
      "{'_id': ObjectId('634e4a12fa216a20123e72f1'), 'title': 'The Shawshank Redemption', 'year': 1994}\n",
      "{'_id': ObjectId('634e4a2cfa216a20123e72ff'), 'title': 'The Shawshank Redemption', 'year': 1994}\n",
      "{'_id': ObjectId('634e52bcfa216a20123e730d'), 'title': 'The Shawshank Redemption', 'year': 1994}\n",
      "{'_id': ObjectId('634dee98fa216a20123e72e1'), 'title': 'Wall Street', 'year': 1987}\n",
      "{'_id': ObjectId('634e4a12fa216a20123e72ef'), 'title': 'Wall Street', 'year': 1987}\n",
      "{'_id': ObjectId('634e4a2cfa216a20123e72fd'), 'title': 'Wall Street', 'year': 1987}\n",
      "{'_id': ObjectId('634e52bcfa216a20123e730b'), 'title': 'Wall Street', 'year': 1987}\n"
     ]
    }
   ],
   "source": [
    "sorted_movies = movie_db.Movies.find(projection=['title', 'year']).sort([('year',-1)])\n",
    "print_all(sorted_movies)"
   ]
  },
  {
   "cell_type": "markdown",
   "metadata": {},
   "source": [
    "#### Get all Movies released in the 90s (after year (1990) and before 2000) ordered from old to recent."
   ]
  },
  {
   "cell_type": "code",
   "execution_count": 120,
   "metadata": {},
   "outputs": [
    {
     "name": "stdout",
     "output_type": "stream",
     "text": [
      "{'_id': ObjectId('634dee98fa216a20123e72e3'), 'id': 3, 'title': 'The Shawshank Redemption', 'country': 'USA', 'year': 1994}\n",
      "{'_id': ObjectId('634e4a12fa216a20123e72f1'), 'id': 3, 'title': 'The Shawshank Redemption', 'country': 'USA', 'year': 1994}\n",
      "{'_id': ObjectId('634e4a2cfa216a20123e72ff'), 'id': 3, 'title': 'The Shawshank Redemption', 'country': 'USA', 'year': 1994}\n",
      "{'_id': ObjectId('634e52bcfa216a20123e730d'), 'id': 3, 'title': 'The Shawshank Redemption', 'country': 'USA', 'year': 1994}\n",
      "{'_id': ObjectId('634dee98fa216a20123e72e2'), 'id': 2, 'title': 'The American President', 'country': 'USA', 'year': 1995}\n",
      "{'_id': ObjectId('634e4a12fa216a20123e72f0'), 'id': 2, 'title': 'The American President', 'country': 'USA', 'year': 1995}\n",
      "{'_id': ObjectId('634e4a2cfa216a20123e72fe'), 'id': 2, 'title': 'The American President', 'country': 'USA', 'year': 1995}\n",
      "{'_id': ObjectId('634e52bcfa216a20123e730c'), 'id': 2, 'title': 'The American President', 'country': 'USA', 'year': 1995}\n"
     ]
    }
   ],
   "source": [
    "\n",
    "\n",
    "movies_90s = movie_db.Movies.find(\n",
    "    {\n",
    "        '$and': [ \n",
    "            { 'year' : { '$gte' : 1990}}, \n",
    "            { 'year' : { '$lt' : 2000}}\n",
    "        ]\n",
    "    }\n",
    ").sort([('year', 1)])\n",
    "\n",
    "print_all(movies_90s)"
   ]
  },
  {
   "cell_type": "markdown",
   "metadata": {},
   "source": [
    "#### Get Movies and Actors from your \"movies\" DB\n",
    "* Hint : use the <code>'$lookup'</code> operator.\n",
    "* The Result should be something like the following:\n",
    "<code>\n",
    "Charlie Sheen : Wall Street\n",
    "Michael Douglas : Wall Street\n",
    "Martin Sheen : Wall Street\n",
    "Michael Douglas : The American President\n",
    "Martin Sheen : The American President\n",
    "Morgan Freeman : The Shawshank Redemption\n",
    "</code>"
   ]
  },
  {
   "cell_type": "code",
   "execution_count": 124,
   "metadata": {},
   "outputs": [
    {
     "data": {
      "text/plain": [
       "[{'actor_roles': [{'name': 'Charlie Sheen'},\n",
       "   {'name': 'Charlie Sheen'},\n",
       "   {'name': 'Charlie Sheen'},\n",
       "   {'name': 'Charlie Sheen'}],\n",
       "  'movie_roles': [{'title': 'Wall Street'},\n",
       "   {'title': 'Wall Street'},\n",
       "   {'title': 'Wall Street'},\n",
       "   {'title': 'Wall Street'}]},\n",
       " {'actor_roles': [{'name': 'Michael Douglas'},\n",
       "   {'name': 'Michael Douglas'},\n",
       "   {'name': 'Michael Douglas'},\n",
       "   {'name': 'Michael Douglas'}],\n",
       "  'movie_roles': [{'title': 'Wall Street'},\n",
       "   {'title': 'Wall Street'},\n",
       "   {'title': 'Wall Street'},\n",
       "   {'title': 'Wall Street'}]},\n",
       " {'actor_roles': [{'name': 'Martin Sheen'},\n",
       "   {'name': 'Martin Sheen'},\n",
       "   {'name': 'Martin Sheen'},\n",
       "   {'name': 'Martin Sheen'}],\n",
       "  'movie_roles': [{'title': 'Wall Street'},\n",
       "   {'title': 'Wall Street'},\n",
       "   {'title': 'Wall Street'},\n",
       "   {'title': 'Wall Street'}]},\n",
       " {'actor_roles': [{'name': 'Michael Douglas'},\n",
       "   {'name': 'Michael Douglas'},\n",
       "   {'name': 'Michael Douglas'},\n",
       "   {'name': 'Michael Douglas'}],\n",
       "  'movie_roles': [{'title': 'The American President'},\n",
       "   {'title': 'The American President'},\n",
       "   {'title': 'The American President'},\n",
       "   {'title': 'The American President'}]},\n",
       " {'actor_roles': [{'name': 'Martin Sheen'},\n",
       "   {'name': 'Martin Sheen'},\n",
       "   {'name': 'Martin Sheen'},\n",
       "   {'name': 'Martin Sheen'}],\n",
       "  'movie_roles': [{'title': 'The American President'},\n",
       "   {'title': 'The American President'},\n",
       "   {'title': 'The American President'},\n",
       "   {'title': 'The American President'}]},\n",
       " {'actor_roles': [{'name': 'Morgan Freeman'},\n",
       "   {'name': 'Morgan Freeman'},\n",
       "   {'name': 'Morgan Freeman'},\n",
       "   {'name': 'Morgan Freeman'}],\n",
       "  'movie_roles': [{'title': 'The Shawshank Redemption'},\n",
       "   {'title': 'The Shawshank Redemption'},\n",
       "   {'title': 'The Shawshank Redemption'},\n",
       "   {'title': 'The Shawshank Redemption'}]},\n",
       " {'actor_roles': [{'name': 'Charlie Sheen'},\n",
       "   {'name': 'Charlie Sheen'},\n",
       "   {'name': 'Charlie Sheen'},\n",
       "   {'name': 'Charlie Sheen'}],\n",
       "  'movie_roles': [{'title': 'Wall Street'},\n",
       "   {'title': 'Wall Street'},\n",
       "   {'title': 'Wall Street'},\n",
       "   {'title': 'Wall Street'}]},\n",
       " {'actor_roles': [{'name': 'Michael Douglas'},\n",
       "   {'name': 'Michael Douglas'},\n",
       "   {'name': 'Michael Douglas'},\n",
       "   {'name': 'Michael Douglas'}],\n",
       "  'movie_roles': [{'title': 'Wall Street'},\n",
       "   {'title': 'Wall Street'},\n",
       "   {'title': 'Wall Street'},\n",
       "   {'title': 'Wall Street'}]},\n",
       " {'actor_roles': [{'name': 'Martin Sheen'},\n",
       "   {'name': 'Martin Sheen'},\n",
       "   {'name': 'Martin Sheen'},\n",
       "   {'name': 'Martin Sheen'}],\n",
       "  'movie_roles': [{'title': 'Wall Street'},\n",
       "   {'title': 'Wall Street'},\n",
       "   {'title': 'Wall Street'},\n",
       "   {'title': 'Wall Street'}]},\n",
       " {'actor_roles': [{'name': 'Michael Douglas'},\n",
       "   {'name': 'Michael Douglas'},\n",
       "   {'name': 'Michael Douglas'},\n",
       "   {'name': 'Michael Douglas'}],\n",
       "  'movie_roles': [{'title': 'The American President'},\n",
       "   {'title': 'The American President'},\n",
       "   {'title': 'The American President'},\n",
       "   {'title': 'The American President'}]},\n",
       " {'actor_roles': [{'name': 'Martin Sheen'},\n",
       "   {'name': 'Martin Sheen'},\n",
       "   {'name': 'Martin Sheen'},\n",
       "   {'name': 'Martin Sheen'}],\n",
       "  'movie_roles': [{'title': 'The American President'},\n",
       "   {'title': 'The American President'},\n",
       "   {'title': 'The American President'},\n",
       "   {'title': 'The American President'}]},\n",
       " {'actor_roles': [{'name': 'Morgan Freeman'},\n",
       "   {'name': 'Morgan Freeman'},\n",
       "   {'name': 'Morgan Freeman'},\n",
       "   {'name': 'Morgan Freeman'}],\n",
       "  'movie_roles': [{'title': 'The Shawshank Redemption'},\n",
       "   {'title': 'The Shawshank Redemption'},\n",
       "   {'title': 'The Shawshank Redemption'},\n",
       "   {'title': 'The Shawshank Redemption'}]},\n",
       " {'actor_roles': [{'name': 'Charlie Sheen'},\n",
       "   {'name': 'Charlie Sheen'},\n",
       "   {'name': 'Charlie Sheen'},\n",
       "   {'name': 'Charlie Sheen'}],\n",
       "  'movie_roles': [{'title': 'Wall Street'},\n",
       "   {'title': 'Wall Street'},\n",
       "   {'title': 'Wall Street'},\n",
       "   {'title': 'Wall Street'}]},\n",
       " {'actor_roles': [{'name': 'Michael Douglas'},\n",
       "   {'name': 'Michael Douglas'},\n",
       "   {'name': 'Michael Douglas'},\n",
       "   {'name': 'Michael Douglas'}],\n",
       "  'movie_roles': [{'title': 'Wall Street'},\n",
       "   {'title': 'Wall Street'},\n",
       "   {'title': 'Wall Street'},\n",
       "   {'title': 'Wall Street'}]},\n",
       " {'actor_roles': [{'name': 'Martin Sheen'},\n",
       "   {'name': 'Martin Sheen'},\n",
       "   {'name': 'Martin Sheen'},\n",
       "   {'name': 'Martin Sheen'}],\n",
       "  'movie_roles': [{'title': 'Wall Street'},\n",
       "   {'title': 'Wall Street'},\n",
       "   {'title': 'Wall Street'},\n",
       "   {'title': 'Wall Street'}]},\n",
       " {'actor_roles': [{'name': 'Michael Douglas'},\n",
       "   {'name': 'Michael Douglas'},\n",
       "   {'name': 'Michael Douglas'},\n",
       "   {'name': 'Michael Douglas'}],\n",
       "  'movie_roles': [{'title': 'The American President'},\n",
       "   {'title': 'The American President'},\n",
       "   {'title': 'The American President'},\n",
       "   {'title': 'The American President'}]},\n",
       " {'actor_roles': [{'name': 'Martin Sheen'},\n",
       "   {'name': 'Martin Sheen'},\n",
       "   {'name': 'Martin Sheen'},\n",
       "   {'name': 'Martin Sheen'}],\n",
       "  'movie_roles': [{'title': 'The American President'},\n",
       "   {'title': 'The American President'},\n",
       "   {'title': 'The American President'},\n",
       "   {'title': 'The American President'}]},\n",
       " {'actor_roles': [{'name': 'Morgan Freeman'},\n",
       "   {'name': 'Morgan Freeman'},\n",
       "   {'name': 'Morgan Freeman'},\n",
       "   {'name': 'Morgan Freeman'}],\n",
       "  'movie_roles': [{'title': 'The Shawshank Redemption'},\n",
       "   {'title': 'The Shawshank Redemption'},\n",
       "   {'title': 'The Shawshank Redemption'},\n",
       "   {'title': 'The Shawshank Redemption'}]},\n",
       " {'actor_roles': [{'name': 'Charlie Sheen'},\n",
       "   {'name': 'Charlie Sheen'},\n",
       "   {'name': 'Charlie Sheen'},\n",
       "   {'name': 'Charlie Sheen'}],\n",
       "  'movie_roles': [{'title': 'Wall Street'},\n",
       "   {'title': 'Wall Street'},\n",
       "   {'title': 'Wall Street'},\n",
       "   {'title': 'Wall Street'}]},\n",
       " {'actor_roles': [{'name': 'Michael Douglas'},\n",
       "   {'name': 'Michael Douglas'},\n",
       "   {'name': 'Michael Douglas'},\n",
       "   {'name': 'Michael Douglas'}],\n",
       "  'movie_roles': [{'title': 'Wall Street'},\n",
       "   {'title': 'Wall Street'},\n",
       "   {'title': 'Wall Street'},\n",
       "   {'title': 'Wall Street'}]},\n",
       " {'actor_roles': [{'name': 'Martin Sheen'},\n",
       "   {'name': 'Martin Sheen'},\n",
       "   {'name': 'Martin Sheen'},\n",
       "   {'name': 'Martin Sheen'}],\n",
       "  'movie_roles': [{'title': 'Wall Street'},\n",
       "   {'title': 'Wall Street'},\n",
       "   {'title': 'Wall Street'},\n",
       "   {'title': 'Wall Street'}]},\n",
       " {'actor_roles': [{'name': 'Michael Douglas'},\n",
       "   {'name': 'Michael Douglas'},\n",
       "   {'name': 'Michael Douglas'},\n",
       "   {'name': 'Michael Douglas'}],\n",
       "  'movie_roles': [{'title': 'The American President'},\n",
       "   {'title': 'The American President'},\n",
       "   {'title': 'The American President'},\n",
       "   {'title': 'The American President'}]},\n",
       " {'actor_roles': [{'name': 'Martin Sheen'},\n",
       "   {'name': 'Martin Sheen'},\n",
       "   {'name': 'Martin Sheen'},\n",
       "   {'name': 'Martin Sheen'}],\n",
       "  'movie_roles': [{'title': 'The American President'},\n",
       "   {'title': 'The American President'},\n",
       "   {'title': 'The American President'},\n",
       "   {'title': 'The American President'}]},\n",
       " {'actor_roles': [{'name': 'Morgan Freeman'},\n",
       "   {'name': 'Morgan Freeman'},\n",
       "   {'name': 'Morgan Freeman'},\n",
       "   {'name': 'Morgan Freeman'}],\n",
       "  'movie_roles': [{'title': 'The Shawshank Redemption'},\n",
       "   {'title': 'The Shawshank Redemption'},\n",
       "   {'title': 'The Shawshank Redemption'},\n",
       "   {'title': 'The Shawshank Redemption'}]}]"
      ]
     },
     "execution_count": 124,
     "metadata": {},
     "output_type": "execute_result"
    }
   ],
   "source": [
    "roles =  [ i for i in movie_db.Roles.aggregate([\n",
    "    {\n",
    "        '$lookup' : {\n",
    "            'from' : 'Actors',\n",
    "            'localField' : 'personId',\n",
    "            'foreignField' : 'id',\n",
    "            'as' : 'actor_roles'\n",
    "        }\n",
    "    },\n",
    "    {\n",
    "        '$lookup' : {\n",
    "            'from' : 'Movies',\n",
    "            'localField' : 'movieId',\n",
    "            'foreignField' : 'id',\n",
    "            'as' : 'movie_roles'\n",
    "        }\n",
    "    },\n",
    "    {\n",
    "        '$project' : \n",
    "        {\n",
    "            '_id' : 0,\n",
    "            'actor_roles.name' : 1,\n",
    "            'movie_roles.title' : 1\n",
    "        }\n",
    "    }\n",
    "])]\n",
    "roles\n",
    "#for role in roles:\n",
    "   # print(role.get('actor_roles')[0].get('name'), ': ', role.get('movie_roles')[0].get('title'))\n",
    "\n",
    "# Congrats to Ewen for finding this one 💗"
   ]
  },
  {
   "cell_type": "markdown",
   "metadata": {},
   "source": [
    "#### For each Actor, get count of \"Movies\" he acted in."
   ]
  },
  {
   "cell_type": "code",
   "execution_count": null,
   "metadata": {},
   "outputs": [
    {
     "data": {
      "text/plain": [
       "{'Charlie Sheen': 1,\n",
       " 'Michael Douglas': 2,\n",
       " 'Martin Sheen': 2,\n",
       " 'Morgan Freeman': 1}"
      ]
     },
     "execution_count": 107,
     "metadata": {},
     "output_type": "execute_result"
    }
   ],
   "source": [
    "# actors = movie_db.Actors.find()\n",
    "# for actor in actors:\n",
    "#     movies_acted_in = movie_db.Movies.find({'personId' : actor._id})\n",
    "#     count = movie_db.Movies.aggregate(\n",
    "#   [\n",
    "#     {\n",
    "#       '$match': {\n",
    "#         'personId': actor.id\n",
    "#       }\n",
    "#     },\n",
    "#     {\n",
    "#       '$count': \"movie_count\"\n",
    "#     }\n",
    "#   ]\n",
    "# )\n",
    "\n",
    "role_counts = {}\n",
    "for role in roles:\n",
    "    name = role.get('actor_roles')[0].get('name')\n",
    "    title = role.get('movie_roles')[0].get('title')\n",
    "    if name in role_counts:\n",
    "        role_counts[name] += 1\n",
    "        continue\n",
    "    role_counts[name] = 1\n",
    "\n",
    "for role in role_counts:\n",
    "    role_counts[role] = int(role_counts[role] / 3)\n",
    "\n",
    "role_counts\n"
   ]
  },
  {
   "cell_type": "markdown",
   "metadata": {},
   "source": [
    "#### In your DB, list the movies that every Actor played"
   ]
  },
  {
   "cell_type": "code",
   "execution_count": 161,
   "metadata": {},
   "outputs": [
    {
     "name": "stdout",
     "output_type": "stream",
     "text": [
      "{'_id': ObjectId('634dee9bfa216a20123e72e4'), 'personId': 1, 'movieId': 1, 'role': ['Bud Fox']}\n",
      "{'_id': ObjectId('634dee9bfa216a20123e72e5'), 'personId': 2, 'movieId': 1, 'role': ['Carl Fox']}\n",
      "{'_id': ObjectId('634dee9bfa216a20123e72e6'), 'personId': 3, 'movieId': 1, 'role': ['Gordon Gekko']}\n",
      "{'_id': ObjectId('634e4a12fa216a20123e72f2'), 'personId': 1, 'movieId': 1, 'role': ['Bud Fox']}\n",
      "{'_id': ObjectId('634e4a12fa216a20123e72f3'), 'personId': 2, 'movieId': 1, 'role': ['Carl Fox']}\n",
      "{'_id': ObjectId('634e4a12fa216a20123e72f4'), 'personId': 3, 'movieId': 1, 'role': ['Gordon Gekko']}\n",
      "{'_id': ObjectId('634e4a2cfa216a20123e7300'), 'personId': 1, 'movieId': 1, 'role': ['Bud Fox']}\n",
      "{'_id': ObjectId('634e4a2cfa216a20123e7301'), 'personId': 2, 'movieId': 1, 'role': ['Carl Fox']}\n",
      "{'_id': ObjectId('634e4a2cfa216a20123e7302'), 'personId': 3, 'movieId': 1, 'role': ['Gordon Gekko']}\n",
      "{'_id': ObjectId('634e52bcfa216a20123e730e'), 'personId': 1, 'movieId': 1, 'role': ['Bud Fox']}\n",
      "{'_id': ObjectId('634e52bcfa216a20123e730f'), 'personId': 2, 'movieId': 1, 'role': ['Carl Fox']}\n",
      "{'_id': ObjectId('634e52bcfa216a20123e7310'), 'personId': 3, 'movieId': 1, 'role': ['Gordon Gekko']}\n",
      "{'_id': ObjectId('634dee9bfa216a20123e72e7'), 'personId': 2, 'movieId': 2, 'role': ['A.J. MacInerney']}\n",
      "{'_id': ObjectId('634dee9bfa216a20123e72e8'), 'personId': 3, 'movieId': 2, 'role': ['President Andrew Shepherd']}\n",
      "{'_id': ObjectId('634e4a12fa216a20123e72f5'), 'personId': 2, 'movieId': 2, 'role': ['A.J. MacInerney']}\n",
      "{'_id': ObjectId('634e4a12fa216a20123e72f6'), 'personId': 3, 'movieId': 2, 'role': ['President Andrew Shepherd']}\n",
      "{'_id': ObjectId('634e4a2cfa216a20123e7303'), 'personId': 2, 'movieId': 2, 'role': ['A.J. MacInerney']}\n",
      "{'_id': ObjectId('634e4a2cfa216a20123e7304'), 'personId': 3, 'movieId': 2, 'role': ['President Andrew Shepherd']}\n",
      "{'_id': ObjectId('634e52bcfa216a20123e7311'), 'personId': 2, 'movieId': 2, 'role': ['A.J. MacInerney']}\n",
      "{'_id': ObjectId('634e52bcfa216a20123e7312'), 'personId': 3, 'movieId': 2, 'role': ['President Andrew Shepherd']}\n",
      "{'_id': ObjectId('634dee9bfa216a20123e72e9'), 'personId': 4, 'movieId': 3, 'role': [\"Ellis Boyd 'Red' Redding\"]}\n",
      "{'_id': ObjectId('634e4a12fa216a20123e72f7'), 'personId': 4, 'movieId': 3, 'role': [\"Ellis Boyd 'Red' Redding\"]}\n",
      "{'_id': ObjectId('634e4a2cfa216a20123e7305'), 'personId': 4, 'movieId': 3, 'role': [\"Ellis Boyd 'Red' Redding\"]}\n",
      "{'_id': ObjectId('634e52bcfa216a20123e7313'), 'personId': 4, 'movieId': 3, 'role': [\"Ellis Boyd 'Red' Redding\"]}\n",
      "{}\n"
     ]
    }
   ],
   "source": [
    "actor_ids = [ i for i in movie_db.Actors.distinct('id')]\n",
    "movie_ids = [ i for i in movie_db.Movies.distinct('id')]\n",
    "\n",
    "movie_count = {}\n",
    "\n",
    "movie = movie_db.Roles.find({'movieId':movie_id})\n",
    "print_all(movie)\n",
    "for m in movie:\n",
    "    if movie_id in movie_count:\n",
    "        movie_count[movie_id] += 1\n",
    "        continue\n",
    "    movie_count[movie_id] = 1\n",
    "print(movie_count)\n",
    "for m in movie_ids:\n",
    "    if(m in movie_count):\n",
    "        if(movie_count[m] == 4):\n",
    "            print(m)\n",
    "\n"
   ]
  },
  {
   "cell_type": "markdown",
   "metadata": {},
   "source": [
    "#### Get the Persons/Actors who acted in \"Wall Street\" movie\n",
    "- Hint use `$lookup` , `$match` operators in the aggregation piepeline"
   ]
  },
  {
   "cell_type": "code",
   "execution_count": null,
   "metadata": {},
   "outputs": [],
   "source": [
    "###YOUR CODE HERE"
   ]
  },
  {
   "cell_type": "markdown",
   "metadata": {},
   "source": [
    "#### Get the Movies in which \"Micheal Douglas\" has played a role in"
   ]
  },
  {
   "cell_type": "code",
   "execution_count": null,
   "metadata": {},
   "outputs": [],
   "source": [
    "###YOUR CODE HERE"
   ]
  },
  {
   "cell_type": "markdown",
   "metadata": {},
   "source": [
    "#### Get count of \"Movies\" in your DB"
   ]
  },
  {
   "cell_type": "code",
   "execution_count": null,
   "metadata": {},
   "outputs": [],
   "source": [
    "###YOUR CODE HERE"
   ]
  },
  {
   "cell_type": "markdown",
   "metadata": {},
   "source": [
    "#### update the year of the 'Wall Street' movie was released in to be 2000(which is not true BTW :)\n",
    "- Show that movie before and After updating it"
   ]
  },
  {
   "cell_type": "code",
   "execution_count": null,
   "metadata": {},
   "outputs": [],
   "source": [
    "###YOUR CODE HERE"
   ]
  },
  {
   "cell_type": "markdown",
   "metadata": {},
   "source": [
    "####  Delete all the persons with names start with 'M' letter."
   ]
  },
  {
   "cell_type": "code",
   "execution_count": null,
   "metadata": {},
   "outputs": [],
   "source": [
    "###YOUR CODE HERE"
   ]
  },
  {
   "cell_type": "markdown",
   "metadata": {},
   "source": [
    "### Task 2: Extend your Mongo-\"MovieDB\" \n",
    "\n",
    "Imagine now that we are going to extend our DB with new movies, actors, even with new directors.\n",
    "\n",
    "- We add <b>**\"The matrix\"**</b> movie which was released in <b> USA, (1999)</b>, and has a new property/field \"Tagline\" <b>(\"Welcome to the Real World\")</b>.\n",
    " \n",
    "- We will also add 4 new actors (Person):\n",
    "    - **\"Keanu Reeves\"** who was born in (1964). <font color='green'>Note:</font> \"born\" property is also new.\n",
    "    - **\"Carrie-Anne Moss\"** who was born in (1967).\n",
    "    - **\"Laurence Fishburne\"** who was born in (1960).\n",
    "    - **\"Hugo Weaving\"** who was born in (1960).\n",
    "    \n",
    "- Moreover, we add 2 directors (Person) :\n",
    "    - **\"Lilly Wachowski\"**, born in (1967)\n",
    "    - **\"Lana Wachowski\"**, born in(1965)\n",
    "- For these directors specify one more label/field as (\"Director\"). (You can add this while inserting the director documents)\n",
    "    \n",
    " \n",
    "- We will also create a new <b>collection \"Directed\" </b> that is directed from the later 2 directors to \"the Matrix\" movie."
   ]
  },
  {
   "cell_type": "markdown",
   "metadata": {},
   "source": [
    "#### Add the Movie \"The Matrix\" with the provided data to the Movies collection"
   ]
  },
  {
   "cell_type": "code",
   "execution_count": null,
   "metadata": {},
   "outputs": [],
   "source": [
    "###YOUR CODE HERE"
   ]
  },
  {
   "cell_type": "markdown",
   "metadata": {},
   "source": [
    "#### Insert the new 4 actors to the person collection"
   ]
  },
  {
   "cell_type": "code",
   "execution_count": null,
   "metadata": {},
   "outputs": [],
   "source": [
    "#Notice, How is easy to add a new feild compared to the RDB\n",
    "newActorList = [\n",
    "  { \"id\": 5, \"name\": \"Keanu Reeves\", \"born\":1964 },\n",
    "  { \"id\": 6, \"name\": \"Carrie-Anne Moss\", \"born\":1967},\n",
    "  { \"id\": 7, \"name\": \"Laurence Fishburne\", \"born\":1960},\n",
    "  { \"id\": 8, \"name\": \"Hugo Weaving\", \"born\":1960}\n",
    "]\n",
    "\n",
    "###YOUR CODE HERE"
   ]
  },
  {
   "cell_type": "markdown",
   "metadata": {},
   "source": [
    "#### Insert the new 2 directors to the person collection"
   ]
  },
  {
   "cell_type": "code",
   "execution_count": null,
   "metadata": {},
   "outputs": [],
   "source": [
    "###YOUR CODE HERE"
   ]
  },
  {
   "cell_type": "markdown",
   "metadata": {},
   "source": [
    "#### Create the \"Directed\" collection, and insert the data into it "
   ]
  },
  {
   "cell_type": "code",
   "execution_count": null,
   "metadata": {},
   "outputs": [],
   "source": [
    "###YOUR CODE HERE"
   ]
  },
  {
   "cell_type": "markdown",
   "metadata": {},
   "source": [
    "#### Get only the directors from the person collection (i.e. persons marked with the label \"Director\")"
   ]
  },
  {
   "cell_type": "code",
   "execution_count": null,
   "metadata": {},
   "outputs": [],
   "source": [
    "###YOUR CODE HERE"
   ]
  },
  {
   "cell_type": "markdown",
   "metadata": {},
   "source": [
    "#### Perform a query that get persons (names, and born year) who Directed \"The Matrix\" movie."
   ]
  },
  {
   "cell_type": "code",
   "execution_count": null,
   "metadata": {},
   "outputs": [],
   "source": [
    "###YOUR CODE HERE"
   ]
  },
  {
   "cell_type": "markdown",
   "metadata": {},
   "source": [
    " ## How long did it take you to solve the homework?\n",
    " \n",
    "Please answer as precisely as you can. It does not affect your points or grade in any way. It is okey, if it took 0.5 hours or 24 hours. The collected information will be used to improve future homeworks."
   ]
  },
  {
   "cell_type": "markdown",
   "metadata": {},
   "source": [
    "<font color=\"red\"><b>Answer:</b></font>"
   ]
  },
  {
   "cell_type": "markdown",
   "metadata": {},
   "source": [
    "**<center> <font color='red'>THANK YOU FOR YOUR EFFORT!</font></center>**"
   ]
  }
 ],
 "metadata": {
  "kernelspec": {
   "display_name": "Python 3 (ipykernel)",
   "language": "python",
   "name": "python3"
  },
  "language_info": {
   "codemirror_mode": {
    "name": "ipython",
    "version": 3
   },
   "file_extension": ".py",
   "mimetype": "text/x-python",
   "name": "python",
   "nbconvert_exporter": "python",
   "pygments_lexer": "ipython3",
   "version": "3.10.6"
  },
  "vscode": {
   "interpreter": {
    "hash": "369f2c481f4da34e4445cda3fffd2e751bd1c4d706f27375911949ba6bb62e1c"
   }
  }
 },
 "nbformat": 4,
 "nbformat_minor": 2
}
