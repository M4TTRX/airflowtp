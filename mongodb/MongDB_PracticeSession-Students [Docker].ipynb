{
 "cells": [
  {
   "cell_type": "markdown",
   "metadata": {},
   "source": [
    "# Week 4: Document-Based Stores (MongoDB)"
   ]
  },
  {
   "cell_type": "markdown",
   "metadata": {},
   "source": [
    "# Introduction:\n",
    "\n",
    "### MongoDB:\n",
    "   <a href=\"https://www.mongodb.com/\">MongoDB</a> is a general purpose, document-based, distributed database built for modern application developers and for the cloud era. MongoDB stores data in JSON-like documents, which makes the database very flexible and scalable. <br/>\n",
    "   \n",
    "<img src=\"https://infinapps.com/wp-content/uploads/2018/10/mongodb-logo.png\" width =\"125\" height=\"75\">\n"
   ]
  },
  {
   "cell_type": "markdown",
   "metadata": {},
   "source": [
    "### MongoDb Hieraracy: \n",
    "<img src=\"https://cdn.educba.com/academy/wp-content/uploads/2019/04/MongoDB-chart2.jpg\" width =\"400\" >"
   ]
  },
  {
   "cell_type": "markdown",
   "metadata": {},
   "source": [
    "### PreLab\n",
    "\n",
    "#### 1. Install MongoDB on Windows\n",
    "\n",
    "- We install it on windows using the MSI version (https://www.mongodb.com/try/download/community?tck=docs_server), cutomize the installation to \"c:/mongodb\"\n",
    "- Add the \"data/db\"  and \"logs\"\" dirs into the installation directory which you already customized.\n",
    "- From the CMD \"As administrator\", configure the logs and databases directories, and start the mongoDB service:\n",
    "    -  from the \"bin \"directory run the following command>>> mongod --directorydb --dpath c:\\mongodb\\data\\db --logpath c:\\mongodb\\log\\mongo.log --logappend --rest --install \n",
    "\n",
    "- Now we can run the mongodb service \n",
    "    - net start mongodb\n",
    "- Putting your mongoDBHome/bin to the enviroment variables Paths:\n",
    "    - so you can run the Shell of MongoDb using the command '>mongo'\n",
    "\n",
    "\n",
    "#### For Linux users (ubuntu):\n",
    "- Follow the instructions in this [tutourial](https://docs.mongodb.com/manual/tutorial/install-mongodb-on-ubuntu/) to install MongoDB 4.4 Community Edition on LTS (long-term support) releases of Ubuntu Linux using the apt package manager.\n",
    "- Genrally Speaking, you can also follow this [link](https://docs.mongodb.com/manual/administration/install-on-linux/) to install MongoDB Community Edition for supported Linux systems. \n",
    "\n",
    "\n",
    "\n",
    "\n",
    "\n",
    "#### 2. PyMongo python Driver\n",
    "\n",
    "- Python needs a MongoDB driver to access the MongoDB database.\n",
    "- <b>'Pymongo'</b> documentation: https://api.mongodb.com/python/current/tutorial.html \n",
    "- Install the 'pymongo' Python driver:\n",
    "```\n",
    "pip install pymongo\n",
    "```"
   ]
  },
  {
   "cell_type": "code",
   "execution_count": null,
   "metadata": {},
   "outputs": [],
   "source": [
    "! pip install pymongo"
   ]
  },
  {
   "cell_type": "markdown",
   "metadata": {},
   "source": [
    "- The first thing that we need to do in order to establish a connection is import the MongoClient class."
   ]
  },
  {
   "cell_type": "code",
   "execution_count": 3,
   "metadata": {},
   "outputs": [],
   "source": [
    "from pymongo import MongoClient\n",
    "from random import randint\n",
    "from pprint import pprint\n",
    "\n",
    "import warnings\n",
    "warnings.filterwarnings('ignore')\n",
    "\n",
    "DB_URL = \"mongodb://mongo:27017/\""
   ]
  },
  {
   "cell_type": "markdown",
   "metadata": {},
   "source": [
    "# First Steps with MongoDB, CRUD Operations"
   ]
  },
  {
   "cell_type": "markdown",
   "metadata": {},
   "source": [
    "## CREATE"
   ]
  },
  {
   "cell_type": "markdown",
   "metadata": {},
   "source": [
    "#### Creating a Database\n",
    "- Unlike SQL databases, databases and collections in MongoDB only have to be named to be created. \n",
    "\n",
    "- To create a database in MongoDB, start by creating a MongoClient object, then specify a connection URL with the correct ip address and the name of the database you want to create.\n",
    "- MongoDB will create the database if it does not exist, and make a connection to it.\n",
    " "
   ]
  },
  {
   "cell_type": "code",
   "execution_count": 4,
   "metadata": {},
   "outputs": [],
   "source": [
    "#we use the MongoClient to communicate with the running database instance.\n",
    "myclient = MongoClient(DB_URL) #Mongo URI format\n",
    "mydb = myclient[\"customer_db\"]\n",
    "\n",
    "#Or you can use the attribute style \n",
    "#mydb = myclient.customer_db"
   ]
  },
  {
   "cell_type": "markdown",
   "metadata": {},
   "source": [
    "- Note: you can also specify the host and/or port using:\n",
    "```python \n",
    "client = MongoClient('mongo', 27017)\n",
    "```"
   ]
  },
  {
   "cell_type": "markdown",
   "metadata": {},
   "source": [
    "<b style=\"color:red\"> Important Note</b>: In MongoDB, a database is not created until it gets content!"
   ]
  },
  {
   "cell_type": "markdown",
   "metadata": {},
   "source": [
    "###### You can check if a database exist by listing all databases in you system:\n",
    "- Note That: 'moviedb' DB is not created yet!!"
   ]
  },
  {
   "cell_type": "code",
   "execution_count": 5,
   "metadata": {},
   "outputs": [
    {
     "ename": "ServerSelectionTimeoutError",
     "evalue": "mongo:27017: [Errno 11001] getaddrinfo failed, Timeout: 30s, Topology Description: <TopologyDescription id: 634d63b14450a999bb0683bf, topology_type: Unknown, servers: [<ServerDescription ('mongo', 27017) server_type: Unknown, rtt: None, error=AutoReconnect('mongo:27017: [Errno 11001] getaddrinfo failed')>]>",
     "output_type": "error",
     "traceback": [
      "\u001b[1;31m---------------------------------------------------------------------------\u001b[0m",
      "\u001b[1;31mServerSelectionTimeoutError\u001b[0m               Traceback (most recent call last)",
      "\u001b[1;32mc:\\dev\\airflowtp\\mongodb\\MongDB_PracticeSession-Students [Docker].ipynb Cell 15\u001b[0m in \u001b[0;36m<cell line: 1>\u001b[1;34m()\u001b[0m\n\u001b[1;32m----> <a href='vscode-notebook-cell:/c%3A/dev/airflowtp/mongodb/MongDB_PracticeSession-Students%20%5BDocker%5D.ipynb#X20sZmlsZQ%3D%3D?line=0'>1</a>\u001b[0m myclient\u001b[39m.\u001b[39;49mlist_database_names()\n",
      "File \u001b[1;32mc:\\Users\\matth\\AppData\\Local\\Programs\\Python\\Python39\\lib\\site-packages\\pymongo\\mongo_client.py:1839\u001b[0m, in \u001b[0;36mMongoClient.list_database_names\u001b[1;34m(self, session, comment)\u001b[0m\n\u001b[0;32m   1821\u001b[0m \u001b[39mdef\u001b[39;00m \u001b[39mlist_database_names\u001b[39m(\n\u001b[0;32m   1822\u001b[0m     \u001b[39mself\u001b[39m,\n\u001b[0;32m   1823\u001b[0m     session: Optional[client_session\u001b[39m.\u001b[39mClientSession] \u001b[39m=\u001b[39m \u001b[39mNone\u001b[39;00m,\n\u001b[0;32m   1824\u001b[0m     comment: Optional[Any] \u001b[39m=\u001b[39m \u001b[39mNone\u001b[39;00m,\n\u001b[0;32m   1825\u001b[0m ) \u001b[39m-\u001b[39m\u001b[39m>\u001b[39m List[\u001b[39mstr\u001b[39m]:\n\u001b[0;32m   1826\u001b[0m     \u001b[39m\"\"\"Get a list of the names of all databases on the connected server.\u001b[39;00m\n\u001b[0;32m   1827\u001b[0m \n\u001b[0;32m   1828\u001b[0m \u001b[39m    :Parameters:\u001b[39;00m\n\u001b[1;32m   (...)\u001b[0m\n\u001b[0;32m   1837\u001b[0m \u001b[39m    .. versionadded:: 3.6\u001b[39;00m\n\u001b[0;32m   1838\u001b[0m \u001b[39m    \"\"\"\u001b[39;00m\n\u001b[1;32m-> 1839\u001b[0m     \u001b[39mreturn\u001b[39;00m [doc[\u001b[39m\"\u001b[39m\u001b[39mname\u001b[39m\u001b[39m\"\u001b[39m] \u001b[39mfor\u001b[39;00m doc \u001b[39min\u001b[39;00m \u001b[39mself\u001b[39;49m\u001b[39m.\u001b[39;49mlist_databases(session, nameOnly\u001b[39m=\u001b[39;49m\u001b[39mTrue\u001b[39;49;00m, comment\u001b[39m=\u001b[39;49mcomment)]\n",
      "File \u001b[1;32mc:\\Users\\matth\\AppData\\Local\\Programs\\Python\\Python39\\lib\\site-packages\\pymongo\\mongo_client.py:1812\u001b[0m, in \u001b[0;36mMongoClient.list_databases\u001b[1;34m(self, session, comment, **kwargs)\u001b[0m\n\u001b[0;32m   1810\u001b[0m     cmd[\u001b[39m\"\u001b[39m\u001b[39mcomment\u001b[39m\u001b[39m\"\u001b[39m] \u001b[39m=\u001b[39m comment\n\u001b[0;32m   1811\u001b[0m admin \u001b[39m=\u001b[39m \u001b[39mself\u001b[39m\u001b[39m.\u001b[39m_database_default_options(\u001b[39m\"\u001b[39m\u001b[39madmin\u001b[39m\u001b[39m\"\u001b[39m)\n\u001b[1;32m-> 1812\u001b[0m res \u001b[39m=\u001b[39m admin\u001b[39m.\u001b[39;49m_retryable_read_command(cmd, session\u001b[39m=\u001b[39;49msession)\n\u001b[0;32m   1813\u001b[0m \u001b[39m# listDatabases doesn't return a cursor (yet). Fake one.\u001b[39;00m\n\u001b[0;32m   1814\u001b[0m cursor \u001b[39m=\u001b[39m {\n\u001b[0;32m   1815\u001b[0m     \u001b[39m\"\u001b[39m\u001b[39mid\u001b[39m\u001b[39m\"\u001b[39m: \u001b[39m0\u001b[39m,\n\u001b[0;32m   1816\u001b[0m     \u001b[39m\"\u001b[39m\u001b[39mfirstBatch\u001b[39m\u001b[39m\"\u001b[39m: res[\u001b[39m\"\u001b[39m\u001b[39mdatabases\u001b[39m\u001b[39m\"\u001b[39m],\n\u001b[0;32m   1817\u001b[0m     \u001b[39m\"\u001b[39m\u001b[39mns\u001b[39m\u001b[39m\"\u001b[39m: \u001b[39m\"\u001b[39m\u001b[39madmin.$cmd\u001b[39m\u001b[39m\"\u001b[39m,\n\u001b[0;32m   1818\u001b[0m }\n",
      "File \u001b[1;32mc:\\Users\\matth\\AppData\\Local\\Programs\\Python\\Python39\\lib\\site-packages\\pymongo\\database.py:843\u001b[0m, in \u001b[0;36mDatabase._retryable_read_command\u001b[1;34m(self, command, value, check, allowable_errors, read_preference, codec_options, session, **kwargs)\u001b[0m\n\u001b[0;32m    830\u001b[0m \u001b[39mdef\u001b[39;00m \u001b[39m_cmd\u001b[39m(session, server, sock_info, read_preference):\n\u001b[0;32m    831\u001b[0m     \u001b[39mreturn\u001b[39;00m \u001b[39mself\u001b[39m\u001b[39m.\u001b[39m_command(\n\u001b[0;32m    832\u001b[0m         sock_info,\n\u001b[0;32m    833\u001b[0m         command,\n\u001b[1;32m   (...)\u001b[0m\n\u001b[0;32m    840\u001b[0m         \u001b[39m*\u001b[39m\u001b[39m*\u001b[39mkwargs,\n\u001b[0;32m    841\u001b[0m     )\n\u001b[1;32m--> 843\u001b[0m \u001b[39mreturn\u001b[39;00m \u001b[39mself\u001b[39;49m\u001b[39m.\u001b[39;49m__client\u001b[39m.\u001b[39;49m_retryable_read(_cmd, read_preference, session)\n",
      "File \u001b[1;32mc:\\Users\\matth\\AppData\\Local\\Programs\\Python\\Python39\\lib\\site-packages\\pymongo\\_csot.py:105\u001b[0m, in \u001b[0;36mapply.<locals>.csot_wrapper\u001b[1;34m(self, *args, **kwargs)\u001b[0m\n\u001b[0;32m    103\u001b[0m         \u001b[39mwith\u001b[39;00m _TimeoutContext(timeout):\n\u001b[0;32m    104\u001b[0m             \u001b[39mreturn\u001b[39;00m func(\u001b[39mself\u001b[39m, \u001b[39m*\u001b[39margs, \u001b[39m*\u001b[39m\u001b[39m*\u001b[39mkwargs)\n\u001b[1;32m--> 105\u001b[0m \u001b[39mreturn\u001b[39;00m func(\u001b[39mself\u001b[39m, \u001b[39m*\u001b[39margs, \u001b[39m*\u001b[39m\u001b[39m*\u001b[39mkwargs)\n",
      "File \u001b[1;32mc:\\Users\\matth\\AppData\\Local\\Programs\\Python\\Python39\\lib\\site-packages\\pymongo\\mongo_client.py:1413\u001b[0m, in \u001b[0;36mMongoClient._retryable_read\u001b[1;34m(self, func, read_pref, session, address, retryable)\u001b[0m\n\u001b[0;32m   1411\u001b[0m         \u001b[39mraise\u001b[39;00m last_error\n\u001b[0;32m   1412\u001b[0m \u001b[39mtry\u001b[39;00m:\n\u001b[1;32m-> 1413\u001b[0m     server \u001b[39m=\u001b[39m \u001b[39mself\u001b[39;49m\u001b[39m.\u001b[39;49m_select_server(read_pref, session, address\u001b[39m=\u001b[39;49maddress)\n\u001b[0;32m   1414\u001b[0m     \u001b[39mwith\u001b[39;00m \u001b[39mself\u001b[39m\u001b[39m.\u001b[39m_socket_from_server(read_pref, server, session) \u001b[39mas\u001b[39;00m (sock_info, read_pref):\n\u001b[0;32m   1415\u001b[0m         \u001b[39mif\u001b[39;00m retrying \u001b[39mand\u001b[39;00m \u001b[39mnot\u001b[39;00m retryable:\n\u001b[0;32m   1416\u001b[0m             \u001b[39m# A retry is not possible because this server does\u001b[39;00m\n\u001b[0;32m   1417\u001b[0m             \u001b[39m# not support retryable reads, raise the last error.\u001b[39;00m\n",
      "File \u001b[1;32mc:\\Users\\matth\\AppData\\Local\\Programs\\Python\\Python39\\lib\\site-packages\\pymongo\\mongo_client.py:1229\u001b[0m, in \u001b[0;36mMongoClient._select_server\u001b[1;34m(self, server_selector, session, address)\u001b[0m\n\u001b[0;32m   1227\u001b[0m             \u001b[39mraise\u001b[39;00m AutoReconnect(\u001b[39m\"\u001b[39m\u001b[39mserver \u001b[39m\u001b[39m%s\u001b[39;00m\u001b[39m:\u001b[39m\u001b[39m%d\u001b[39;00m\u001b[39m no longer available\u001b[39m\u001b[39m\"\u001b[39m \u001b[39m%\u001b[39m address)\n\u001b[0;32m   1228\u001b[0m     \u001b[39melse\u001b[39;00m:\n\u001b[1;32m-> 1229\u001b[0m         server \u001b[39m=\u001b[39m topology\u001b[39m.\u001b[39;49mselect_server(server_selector)\n\u001b[0;32m   1230\u001b[0m     \u001b[39mreturn\u001b[39;00m server\n\u001b[0;32m   1231\u001b[0m \u001b[39mexcept\u001b[39;00m PyMongoError \u001b[39mas\u001b[39;00m exc:\n\u001b[0;32m   1232\u001b[0m     \u001b[39m# Server selection errors in a transaction are transient.\u001b[39;00m\n",
      "File \u001b[1;32mc:\\Users\\matth\\AppData\\Local\\Programs\\Python\\Python39\\lib\\site-packages\\pymongo\\topology.py:272\u001b[0m, in \u001b[0;36mTopology.select_server\u001b[1;34m(self, selector, server_selection_timeout, address)\u001b[0m\n\u001b[0;32m    270\u001b[0m \u001b[39mdef\u001b[39;00m \u001b[39mselect_server\u001b[39m(\u001b[39mself\u001b[39m, selector, server_selection_timeout\u001b[39m=\u001b[39m\u001b[39mNone\u001b[39;00m, address\u001b[39m=\u001b[39m\u001b[39mNone\u001b[39;00m):\n\u001b[0;32m    271\u001b[0m     \u001b[39m\"\"\"Like select_servers, but choose a random server if several match.\"\"\"\u001b[39;00m\n\u001b[1;32m--> 272\u001b[0m     server \u001b[39m=\u001b[39m \u001b[39mself\u001b[39;49m\u001b[39m.\u001b[39;49m_select_server(selector, server_selection_timeout, address)\n\u001b[0;32m    273\u001b[0m     \u001b[39mif\u001b[39;00m _csot\u001b[39m.\u001b[39mget_timeout():\n\u001b[0;32m    274\u001b[0m         _csot\u001b[39m.\u001b[39mset_rtt(server\u001b[39m.\u001b[39mdescription\u001b[39m.\u001b[39mround_trip_time)\n",
      "File \u001b[1;32mc:\\Users\\matth\\AppData\\Local\\Programs\\Python\\Python39\\lib\\site-packages\\pymongo\\topology.py:261\u001b[0m, in \u001b[0;36mTopology._select_server\u001b[1;34m(self, selector, server_selection_timeout, address)\u001b[0m\n\u001b[0;32m    260\u001b[0m \u001b[39mdef\u001b[39;00m \u001b[39m_select_server\u001b[39m(\u001b[39mself\u001b[39m, selector, server_selection_timeout\u001b[39m=\u001b[39m\u001b[39mNone\u001b[39;00m, address\u001b[39m=\u001b[39m\u001b[39mNone\u001b[39;00m):\n\u001b[1;32m--> 261\u001b[0m     servers \u001b[39m=\u001b[39m \u001b[39mself\u001b[39;49m\u001b[39m.\u001b[39;49mselect_servers(selector, server_selection_timeout, address)\n\u001b[0;32m    262\u001b[0m     \u001b[39mif\u001b[39;00m \u001b[39mlen\u001b[39m(servers) \u001b[39m==\u001b[39m \u001b[39m1\u001b[39m:\n\u001b[0;32m    263\u001b[0m         \u001b[39mreturn\u001b[39;00m servers[\u001b[39m0\u001b[39m]\n",
      "File \u001b[1;32mc:\\Users\\matth\\AppData\\Local\\Programs\\Python\\Python39\\lib\\site-packages\\pymongo\\topology.py:223\u001b[0m, in \u001b[0;36mTopology.select_servers\u001b[1;34m(self, selector, server_selection_timeout, address)\u001b[0m\n\u001b[0;32m    220\u001b[0m     server_timeout \u001b[39m=\u001b[39m server_selection_timeout\n\u001b[0;32m    222\u001b[0m \u001b[39mwith\u001b[39;00m \u001b[39mself\u001b[39m\u001b[39m.\u001b[39m_lock:\n\u001b[1;32m--> 223\u001b[0m     server_descriptions \u001b[39m=\u001b[39m \u001b[39mself\u001b[39;49m\u001b[39m.\u001b[39;49m_select_servers_loop(selector, server_timeout, address)\n\u001b[0;32m    225\u001b[0m     \u001b[39mreturn\u001b[39;00m [\u001b[39mself\u001b[39m\u001b[39m.\u001b[39mget_server_by_address(sd\u001b[39m.\u001b[39maddress) \u001b[39mfor\u001b[39;00m sd \u001b[39min\u001b[39;00m server_descriptions]\n",
      "File \u001b[1;32mc:\\Users\\matth\\AppData\\Local\\Programs\\Python\\Python39\\lib\\site-packages\\pymongo\\topology.py:238\u001b[0m, in \u001b[0;36mTopology._select_servers_loop\u001b[1;34m(self, selector, timeout, address)\u001b[0m\n\u001b[0;32m    235\u001b[0m \u001b[39mwhile\u001b[39;00m \u001b[39mnot\u001b[39;00m server_descriptions:\n\u001b[0;32m    236\u001b[0m     \u001b[39m# No suitable servers.\u001b[39;00m\n\u001b[0;32m    237\u001b[0m     \u001b[39mif\u001b[39;00m timeout \u001b[39m==\u001b[39m \u001b[39m0\u001b[39m \u001b[39mor\u001b[39;00m now \u001b[39m>\u001b[39m end_time:\n\u001b[1;32m--> 238\u001b[0m         \u001b[39mraise\u001b[39;00m ServerSelectionTimeoutError(\n\u001b[0;32m    239\u001b[0m             \u001b[39m\"\u001b[39m\u001b[39m%s\u001b[39;00m\u001b[39m, Timeout: \u001b[39m\u001b[39m%s\u001b[39;00m\u001b[39ms, Topology Description: \u001b[39m\u001b[39m%r\u001b[39;00m\u001b[39m\"\u001b[39m\n\u001b[0;32m    240\u001b[0m             \u001b[39m%\u001b[39m (\u001b[39mself\u001b[39m\u001b[39m.\u001b[39m_error_message(selector), timeout, \u001b[39mself\u001b[39m\u001b[39m.\u001b[39mdescription)\n\u001b[0;32m    241\u001b[0m         )\n\u001b[0;32m    243\u001b[0m     \u001b[39mself\u001b[39m\u001b[39m.\u001b[39m_ensure_opened()\n\u001b[0;32m    244\u001b[0m     \u001b[39mself\u001b[39m\u001b[39m.\u001b[39m_request_check_all()\n",
      "\u001b[1;31mServerSelectionTimeoutError\u001b[0m: mongo:27017: [Errno 11001] getaddrinfo failed, Timeout: 30s, Topology Description: <TopologyDescription id: 634d63b14450a999bb0683bf, topology_type: Unknown, servers: [<ServerDescription ('mongo', 27017) server_type: Unknown, rtt: None, error=AutoReconnect('mongo:27017: [Errno 11001] getaddrinfo failed')>]>"
     ]
    }
   ],
   "source": [
    "myclient.list_database_names()"
   ]
  },
  {
   "cell_type": "markdown",
   "metadata": {},
   "source": [
    "#### Creating a Collection\n",
    "- To create a collection in MongoDB, use database object and specify the name of the collection you want to create.\n",
    "- MongoDB will create the collection if it does not exist."
   ]
  },
  {
   "cell_type": "code",
   "execution_count": 6,
   "metadata": {},
   "outputs": [],
   "source": [
    "customer_coll = mydb[\"customer\"]"
   ]
  },
  {
   "cell_type": "markdown",
   "metadata": {},
   "source": [
    "#### Check if the collection is created !"
   ]
  },
  {
   "cell_type": "code",
   "execution_count": 7,
   "metadata": {},
   "outputs": [
    {
     "ename": "ServerSelectionTimeoutError",
     "evalue": "mongo:27017: [Errno 11001] getaddrinfo failed, Timeout: 30s, Topology Description: <TopologyDescription id: 634d63b14450a999bb0683bf, topology_type: Unknown, servers: [<ServerDescription ('mongo', 27017) server_type: Unknown, rtt: None, error=AutoReconnect('mongo:27017: [Errno 11001] getaddrinfo failed')>]>",
     "output_type": "error",
     "traceback": [
      "\u001b[1;31m---------------------------------------------------------------------------\u001b[0m",
      "\u001b[1;31mServerSelectionTimeoutError\u001b[0m               Traceback (most recent call last)",
      "\u001b[1;32mc:\\dev\\airflowtp\\mongodb\\MongDB_PracticeSession-Students [Docker].ipynb Cell 19\u001b[0m in \u001b[0;36m<cell line: 1>\u001b[1;34m()\u001b[0m\n\u001b[1;32m----> <a href='vscode-notebook-cell:/c%3A/dev/airflowtp/mongodb/MongDB_PracticeSession-Students%20%5BDocker%5D.ipynb#X24sZmlsZQ%3D%3D?line=0'>1</a>\u001b[0m mydb\u001b[39m.\u001b[39;49mlist_collection_names()\n",
      "File \u001b[1;32mc:\\Users\\matth\\AppData\\Local\\Programs\\Python\\Python39\\lib\\site-packages\\pymongo\\database.py:953\u001b[0m, in \u001b[0;36mDatabase.list_collection_names\u001b[1;34m(self, session, filter, comment, **kwargs)\u001b[0m\n\u001b[0;32m    950\u001b[0m     \u001b[39mif\u001b[39;00m \u001b[39mnot\u001b[39;00m \u001b[39mfilter\u001b[39m \u001b[39mor\u001b[39;00m (\u001b[39mlen\u001b[39m(\u001b[39mfilter\u001b[39m) \u001b[39m==\u001b[39m \u001b[39m1\u001b[39m \u001b[39mand\u001b[39;00m \u001b[39m\"\u001b[39m\u001b[39mname\u001b[39m\u001b[39m\"\u001b[39m \u001b[39min\u001b[39;00m \u001b[39mfilter\u001b[39m):\n\u001b[0;32m    951\u001b[0m         kwargs[\u001b[39m\"\u001b[39m\u001b[39mnameOnly\u001b[39m\u001b[39m\"\u001b[39m] \u001b[39m=\u001b[39m \u001b[39mTrue\u001b[39;00m\n\u001b[1;32m--> 953\u001b[0m \u001b[39mreturn\u001b[39;00m [result[\u001b[39m\"\u001b[39m\u001b[39mname\u001b[39m\u001b[39m\"\u001b[39m] \u001b[39mfor\u001b[39;00m result \u001b[39min\u001b[39;00m \u001b[39mself\u001b[39m\u001b[39m.\u001b[39mlist_collections(session\u001b[39m=\u001b[39msession, \u001b[39m*\u001b[39m\u001b[39m*\u001b[39mkwargs)]\n",
      "File \u001b[1;32mc:\\Users\\matth\\AppData\\Local\\Programs\\Python\\Python39\\lib\\site-packages\\pymongo\\database.py:905\u001b[0m, in \u001b[0;36mDatabase.list_collections\u001b[1;34m(self, session, filter, comment, **kwargs)\u001b[0m\n\u001b[0;32m    900\u001b[0m \u001b[39mdef\u001b[39;00m \u001b[39m_cmd\u001b[39m(session, server, sock_info, read_preference):\n\u001b[0;32m    901\u001b[0m     \u001b[39mreturn\u001b[39;00m \u001b[39mself\u001b[39m\u001b[39m.\u001b[39m_list_collections(\n\u001b[0;32m    902\u001b[0m         sock_info, session, read_preference\u001b[39m=\u001b[39mread_preference, \u001b[39m*\u001b[39m\u001b[39m*\u001b[39mkwargs\n\u001b[0;32m    903\u001b[0m     )\n\u001b[1;32m--> 905\u001b[0m \u001b[39mreturn\u001b[39;00m \u001b[39mself\u001b[39;49m\u001b[39m.\u001b[39;49m__client\u001b[39m.\u001b[39;49m_retryable_read(_cmd, read_pref, session)\n",
      "File \u001b[1;32mc:\\Users\\matth\\AppData\\Local\\Programs\\Python\\Python39\\lib\\site-packages\\pymongo\\_csot.py:105\u001b[0m, in \u001b[0;36mapply.<locals>.csot_wrapper\u001b[1;34m(self, *args, **kwargs)\u001b[0m\n\u001b[0;32m    103\u001b[0m         \u001b[39mwith\u001b[39;00m _TimeoutContext(timeout):\n\u001b[0;32m    104\u001b[0m             \u001b[39mreturn\u001b[39;00m func(\u001b[39mself\u001b[39m, \u001b[39m*\u001b[39margs, \u001b[39m*\u001b[39m\u001b[39m*\u001b[39mkwargs)\n\u001b[1;32m--> 105\u001b[0m \u001b[39mreturn\u001b[39;00m func(\u001b[39mself\u001b[39m, \u001b[39m*\u001b[39margs, \u001b[39m*\u001b[39m\u001b[39m*\u001b[39mkwargs)\n",
      "File \u001b[1;32mc:\\Users\\matth\\AppData\\Local\\Programs\\Python\\Python39\\lib\\site-packages\\pymongo\\mongo_client.py:1413\u001b[0m, in \u001b[0;36mMongoClient._retryable_read\u001b[1;34m(self, func, read_pref, session, address, retryable)\u001b[0m\n\u001b[0;32m   1411\u001b[0m         \u001b[39mraise\u001b[39;00m last_error\n\u001b[0;32m   1412\u001b[0m \u001b[39mtry\u001b[39;00m:\n\u001b[1;32m-> 1413\u001b[0m     server \u001b[39m=\u001b[39m \u001b[39mself\u001b[39;49m\u001b[39m.\u001b[39;49m_select_server(read_pref, session, address\u001b[39m=\u001b[39;49maddress)\n\u001b[0;32m   1414\u001b[0m     \u001b[39mwith\u001b[39;00m \u001b[39mself\u001b[39m\u001b[39m.\u001b[39m_socket_from_server(read_pref, server, session) \u001b[39mas\u001b[39;00m (sock_info, read_pref):\n\u001b[0;32m   1415\u001b[0m         \u001b[39mif\u001b[39;00m retrying \u001b[39mand\u001b[39;00m \u001b[39mnot\u001b[39;00m retryable:\n\u001b[0;32m   1416\u001b[0m             \u001b[39m# A retry is not possible because this server does\u001b[39;00m\n\u001b[0;32m   1417\u001b[0m             \u001b[39m# not support retryable reads, raise the last error.\u001b[39;00m\n",
      "File \u001b[1;32mc:\\Users\\matth\\AppData\\Local\\Programs\\Python\\Python39\\lib\\site-packages\\pymongo\\mongo_client.py:1229\u001b[0m, in \u001b[0;36mMongoClient._select_server\u001b[1;34m(self, server_selector, session, address)\u001b[0m\n\u001b[0;32m   1227\u001b[0m             \u001b[39mraise\u001b[39;00m AutoReconnect(\u001b[39m\"\u001b[39m\u001b[39mserver \u001b[39m\u001b[39m%s\u001b[39;00m\u001b[39m:\u001b[39m\u001b[39m%d\u001b[39;00m\u001b[39m no longer available\u001b[39m\u001b[39m\"\u001b[39m \u001b[39m%\u001b[39m address)\n\u001b[0;32m   1228\u001b[0m     \u001b[39melse\u001b[39;00m:\n\u001b[1;32m-> 1229\u001b[0m         server \u001b[39m=\u001b[39m topology\u001b[39m.\u001b[39;49mselect_server(server_selector)\n\u001b[0;32m   1230\u001b[0m     \u001b[39mreturn\u001b[39;00m server\n\u001b[0;32m   1231\u001b[0m \u001b[39mexcept\u001b[39;00m PyMongoError \u001b[39mas\u001b[39;00m exc:\n\u001b[0;32m   1232\u001b[0m     \u001b[39m# Server selection errors in a transaction are transient.\u001b[39;00m\n",
      "File \u001b[1;32mc:\\Users\\matth\\AppData\\Local\\Programs\\Python\\Python39\\lib\\site-packages\\pymongo\\topology.py:272\u001b[0m, in \u001b[0;36mTopology.select_server\u001b[1;34m(self, selector, server_selection_timeout, address)\u001b[0m\n\u001b[0;32m    270\u001b[0m \u001b[39mdef\u001b[39;00m \u001b[39mselect_server\u001b[39m(\u001b[39mself\u001b[39m, selector, server_selection_timeout\u001b[39m=\u001b[39m\u001b[39mNone\u001b[39;00m, address\u001b[39m=\u001b[39m\u001b[39mNone\u001b[39;00m):\n\u001b[0;32m    271\u001b[0m     \u001b[39m\"\"\"Like select_servers, but choose a random server if several match.\"\"\"\u001b[39;00m\n\u001b[1;32m--> 272\u001b[0m     server \u001b[39m=\u001b[39m \u001b[39mself\u001b[39;49m\u001b[39m.\u001b[39;49m_select_server(selector, server_selection_timeout, address)\n\u001b[0;32m    273\u001b[0m     \u001b[39mif\u001b[39;00m _csot\u001b[39m.\u001b[39mget_timeout():\n\u001b[0;32m    274\u001b[0m         _csot\u001b[39m.\u001b[39mset_rtt(server\u001b[39m.\u001b[39mdescription\u001b[39m.\u001b[39mround_trip_time)\n",
      "File \u001b[1;32mc:\\Users\\matth\\AppData\\Local\\Programs\\Python\\Python39\\lib\\site-packages\\pymongo\\topology.py:261\u001b[0m, in \u001b[0;36mTopology._select_server\u001b[1;34m(self, selector, server_selection_timeout, address)\u001b[0m\n\u001b[0;32m    260\u001b[0m \u001b[39mdef\u001b[39;00m \u001b[39m_select_server\u001b[39m(\u001b[39mself\u001b[39m, selector, server_selection_timeout\u001b[39m=\u001b[39m\u001b[39mNone\u001b[39;00m, address\u001b[39m=\u001b[39m\u001b[39mNone\u001b[39;00m):\n\u001b[1;32m--> 261\u001b[0m     servers \u001b[39m=\u001b[39m \u001b[39mself\u001b[39;49m\u001b[39m.\u001b[39;49mselect_servers(selector, server_selection_timeout, address)\n\u001b[0;32m    262\u001b[0m     \u001b[39mif\u001b[39;00m \u001b[39mlen\u001b[39m(servers) \u001b[39m==\u001b[39m \u001b[39m1\u001b[39m:\n\u001b[0;32m    263\u001b[0m         \u001b[39mreturn\u001b[39;00m servers[\u001b[39m0\u001b[39m]\n",
      "File \u001b[1;32mc:\\Users\\matth\\AppData\\Local\\Programs\\Python\\Python39\\lib\\site-packages\\pymongo\\topology.py:223\u001b[0m, in \u001b[0;36mTopology.select_servers\u001b[1;34m(self, selector, server_selection_timeout, address)\u001b[0m\n\u001b[0;32m    220\u001b[0m     server_timeout \u001b[39m=\u001b[39m server_selection_timeout\n\u001b[0;32m    222\u001b[0m \u001b[39mwith\u001b[39;00m \u001b[39mself\u001b[39m\u001b[39m.\u001b[39m_lock:\n\u001b[1;32m--> 223\u001b[0m     server_descriptions \u001b[39m=\u001b[39m \u001b[39mself\u001b[39;49m\u001b[39m.\u001b[39;49m_select_servers_loop(selector, server_timeout, address)\n\u001b[0;32m    225\u001b[0m     \u001b[39mreturn\u001b[39;00m [\u001b[39mself\u001b[39m\u001b[39m.\u001b[39mget_server_by_address(sd\u001b[39m.\u001b[39maddress) \u001b[39mfor\u001b[39;00m sd \u001b[39min\u001b[39;00m server_descriptions]\n",
      "File \u001b[1;32mc:\\Users\\matth\\AppData\\Local\\Programs\\Python\\Python39\\lib\\site-packages\\pymongo\\topology.py:238\u001b[0m, in \u001b[0;36mTopology._select_servers_loop\u001b[1;34m(self, selector, timeout, address)\u001b[0m\n\u001b[0;32m    235\u001b[0m \u001b[39mwhile\u001b[39;00m \u001b[39mnot\u001b[39;00m server_descriptions:\n\u001b[0;32m    236\u001b[0m     \u001b[39m# No suitable servers.\u001b[39;00m\n\u001b[0;32m    237\u001b[0m     \u001b[39mif\u001b[39;00m timeout \u001b[39m==\u001b[39m \u001b[39m0\u001b[39m \u001b[39mor\u001b[39;00m now \u001b[39m>\u001b[39m end_time:\n\u001b[1;32m--> 238\u001b[0m         \u001b[39mraise\u001b[39;00m ServerSelectionTimeoutError(\n\u001b[0;32m    239\u001b[0m             \u001b[39m\"\u001b[39m\u001b[39m%s\u001b[39;00m\u001b[39m, Timeout: \u001b[39m\u001b[39m%s\u001b[39;00m\u001b[39ms, Topology Description: \u001b[39m\u001b[39m%r\u001b[39;00m\u001b[39m\"\u001b[39m\n\u001b[0;32m    240\u001b[0m             \u001b[39m%\u001b[39m (\u001b[39mself\u001b[39m\u001b[39m.\u001b[39m_error_message(selector), timeout, \u001b[39mself\u001b[39m\u001b[39m.\u001b[39mdescription)\n\u001b[0;32m    241\u001b[0m         )\n\u001b[0;32m    243\u001b[0m     \u001b[39mself\u001b[39m\u001b[39m.\u001b[39m_ensure_opened()\n\u001b[0;32m    244\u001b[0m     \u001b[39mself\u001b[39m\u001b[39m.\u001b[39m_request_check_all()\n",
      "\u001b[1;31mServerSelectionTimeoutError\u001b[0m: mongo:27017: [Errno 11001] getaddrinfo failed, Timeout: 30s, Topology Description: <TopologyDescription id: 634d63b14450a999bb0683bf, topology_type: Unknown, servers: [<ServerDescription ('mongo', 27017) server_type: Unknown, rtt: None, error=AutoReconnect('mongo:27017: [Errno 11001] getaddrinfo failed')>]>"
     ]
    }
   ],
   "source": [
    "mydb.list_collection_names()"
   ]
  },
  {
   "cell_type": "markdown",
   "metadata": {},
   "source": [
    "#### Check if the DB itself is created !"
   ]
  },
  {
   "cell_type": "code",
   "execution_count": null,
   "metadata": {},
   "outputs": [],
   "source": [
    "myclient.list_database_names()"
   ]
  },
  {
   "cell_type": "markdown",
   "metadata": {},
   "source": [
    "- This means that Mongo is following a <em>lazy</em> creation approach.\n",
    "    - That is the database and corresponding collection are actually only created when a document is inserted."
   ]
  },
  {
   "cell_type": "markdown",
   "metadata": {},
   "source": [
    "### Insert into the collection\n",
    "- To insert a single record, or more accurately a document as it is called in MongoDB, into a collection, we use the **insert_one()** method."
   ]
  },
  {
   "cell_type": "code",
   "execution_count": null,
   "metadata": {},
   "outputs": [],
   "source": [
    "first_customer_doc = {\"name\": \"Jane\", \"age\": 25, \"gender\": \"female\"}\n",
    "first_customer = ..."
   ]
  },
  {
   "cell_type": "markdown",
   "metadata": {},
   "source": [
    "- Each document is allocated a unique identifier which can be accessed via the **inserted_id** attribute."
   ]
  },
  {
   "cell_type": "code",
   "execution_count": null,
   "metadata": {},
   "outputs": [],
   "source": [
    "first_customer.inserted_id"
   ]
  },
  {
   "cell_type": "markdown",
   "metadata": {},
   "source": [
    "**Notes about Document_IDs:** \n",
    "- Although these identifiers look pretty random, there is actually a wel defined structure.\n",
    "    - The first 8 characters (4 bytes) are a timestamp\n",
    "    - followed by a 6 character machine identifier\n",
    "    - then a 4 character process identifier\n",
    "    - and finally a 6 character counter.\n",
    "    \n",
    "- <font color='red'> Note to consider</font>:\n",
    "    - Instead of creating the default _id(s) here, we can use the _id as our given IDs in the Dataset\n",
    "    - it's better to stick to the automatically created mongo IDs in order to scale well.\n",
    "    - However, sometimes you badly want to prettify the never-ending ObjectID value.\n",
    "        - Then, you should consider using an appropriate atomic increment strategy.\n",
    "   ```javascript  \n",
    "   db.coll.insert({_id:\"myUniqueValue\", a:1, b:1}) ```"
   ]
  },
  {
   "cell_type": "markdown",
   "metadata": {},
   "source": [
    "#### Insert Multiple Documents\n",
    "- To insert multiple documents into a collection in MongoDB, we use the <code>insert_many()</code> method.\n",
    "- The first parameter of the <code>insert_many()</code> method is a list containing dictionaries with the data you want to insert."
   ]
  },
  {
   "cell_type": "code",
   "execution_count": null,
   "metadata": {},
   "outputs": [],
   "source": [
    "customer_List = [\n",
    "  { \"name\": \"Karim\", \"age\":14, \"gender\":\"male\"},\n",
    "  { \"name\": \"Kate\",\"age\":75, \"gender\":\"female\"},\n",
    "  { \"name\": \"Riccardo\",\"age\":34, \"gender\":\"male\", \"phone\": 474612}\n",
    "]\n",
    "customers = mydb.customer.insert_many(customer_List)\n",
    "\n",
    "\n",
    "#print list of the _id values of the inserted documents:\n",
    "print(...)#YOUR CODE HERE"
   ]
  },
  {
   "cell_type": "markdown",
   "metadata": {},
   "source": [
    "- Notice that the last document has this \"**phone**\" feild, even we didn't specify that for the other documents."
   ]
  },
  {
   "cell_type": "markdown",
   "metadata": {},
   "source": [
    "## READ (Querying our Data)"
   ]
  },
  {
   "cell_type": "markdown",
   "metadata": {},
   "source": [
    "- **find_one** method is just one in a series of find statements that support querying MongoDB data."
   ]
  },
  {
   "cell_type": "markdown",
   "metadata": {},
   "source": [
    "####  Get the first customer (document) in the customers collection"
   ]
  },
  {
   "cell_type": "code",
   "execution_count": null,
   "metadata": {},
   "outputs": [],
   "source": [
    "first_customer= mydb.customer.find_one()\n",
    "pprint(first_customer)"
   ]
  },
  {
   "cell_type": "markdown",
   "metadata": {},
   "source": [
    "#### Find a specific document using find\n",
    "Typically, we use unique id if we want a specific document.\n",
    "\n",
    "- Find the customer with the name 'Jane'"
   ]
  },
  {
   "cell_type": "code",
   "execution_count": null,
   "metadata": {},
   "outputs": [],
   "source": [
    "jane = mydb.customer.find({'name': 'Jane'})#YOUR CODE HERE\n",
    "print(jane)"
   ]
  },
  {
   "cell_type": "markdown",
   "metadata": {},
   "source": [
    "- **find method** : The find() method returns all occurrences in the selection.\n",
    "    - More precisely, it returns a **cursor** which can be used to iterate over the results.\n",
    "    - A cursor is an iterable and can be used to neatly access the query results.\n",
    "\n",
    "- **Notes**:\n",
    "    - The second parameter of the find() method is an object describing which fields to include in the result.\n",
    "\n",
    "    - This parameter is optional, and if omitted, all fields will be included in the result."
   ]
  },
  {
   "cell_type": "markdown",
   "metadata": {},
   "source": [
    "####  List all the customers (documents) in the customers collection"
   ]
  },
  {
   "cell_type": "code",
   "execution_count": null,
   "metadata": {},
   "outputs": [],
   "source": [
    "#corresponds to the SQL query \"SELECT * FROM customer_tbl\"\n",
    "allCustomers=mydb.customer.find({}) #we can ignore the empty '{}' doc.\n",
    "for customer in allCustomers:\n",
    "    print(customer)"
   ]
  },
  {
   "cell_type": "markdown",
   "metadata": {},
   "source": [
    "#### MongoDB Projections\n",
    "- Notes:\n",
    "    - The **_id** field (returned by default)\n",
    "    - Your projection **must** include only the fields you want to have. Not the one you don't want.\n",
    "    - Exception for **_id**, you can specify to not include it."
   ]
  },
  {
   "cell_type": "markdown",
   "metadata": {},
   "source": [
    "#### Get the name, age fields only of the customers"
   ]
  },
  {
   "cell_type": "code",
   "execution_count": null,
   "metadata": {},
   "outputs": [],
   "source": [
    "allCustomers=mydb.customer.find({}, ['name', 'age']) #we can ignore the empty '{}' doc.\n",
    "for customer in allCustomers:\n",
    "    print(customer)"
   ]
  },
  {
   "cell_type": "markdown",
   "metadata": {},
   "source": [
    "#### Get the the customers with name 'Jane' or 'Tarun'\n",
    "- Hint: use the **\"$or\"** operator"
   ]
  },
  {
   "cell_type": "code",
   "execution_count": null,
   "metadata": {},
   "outputs": [],
   "source": [
    "janeOrTarun=mydb.customer.find(\n",
    "    {\"$or\": [{\"name\":\"Jane\"}, \n",
    "             {\"name\":\"Tarun\"} \n",
    "            ] } )\n",
    "\n",
    "for customer in janeOrTarun:\n",
    "    print(customer)"
   ]
  },
  {
   "cell_type": "markdown",
   "metadata": {},
   "source": [
    "- Similarly, we can use `$and`, `$not` , `$nor` operators to join or negate query clauses/conditions."
   ]
  },
  {
   "cell_type": "markdown",
   "metadata": {},
   "source": [
    "#### Get the the customers with name 'Jane' and age is 25"
   ]
  },
  {
   "cell_type": "code",
   "execution_count": null,
   "metadata": {},
   "outputs": [],
   "source": [
    "janeOrTarun= mydb.customer.find(\n",
    "    {\n",
    "        '$and': [\n",
    "            { 'name' : 'Jane'},\n",
    "            {'age': 25}\n",
    "        ]\n",
    "    }\n",
    ")\n",
    "\n",
    "for customer in janeOrTarun:\n",
    "    print(customer)"
   ]
  },
  {
   "cell_type": "markdown",
   "metadata": {},
   "source": [
    "#### Find customers with age older than 16 \n",
    "- we use <code> \"$gt\"</code> paramater."
   ]
  },
  {
   "cell_type": "code",
   "execution_count": null,
   "metadata": {},
   "outputs": [],
   "source": [
    "adult_customers=...#YOUR CODE HERE\n",
    "\n",
    "for customer in adult_customers:\n",
    "    print(customer[\"name\"],customer[\"age\"])"
   ]
  },
  {
   "cell_type": "markdown",
   "metadata": {},
   "source": [
    "- Obviously, we can also use `$lt (<)` </code>,  `$gt (>)`,  `$lte (<=)`,  `$gte (>=)`"
   ]
  },
  {
   "cell_type": "markdown",
   "metadata": {},
   "source": [
    "### Sorting the Results\n",
    "#### Get all Customers, sorted by age descending"
   ]
  },
  {
   "cell_type": "code",
   "execution_count": null,
   "metadata": {},
   "outputs": [],
   "source": [
    "customers_Sorted= mydb.customer.find().sort([('age', 0)])\n",
    "for customer in customers_Sorted:\n",
    "    print(customer)"
   ]
  },
  {
   "cell_type": "markdown",
   "metadata": {},
   "source": [
    "* Clearly, in order to sort ascending, we would use 1 "
   ]
  },
  {
   "cell_type": "markdown",
   "metadata": {},
   "source": [
    "#### Get the count of the customers in your DB"
   ]
  },
  {
   "cell_type": "code",
   "execution_count": null,
   "metadata": {},
   "outputs": [],
   "source": [
    "#YOUR CODE HERE"
   ]
  },
  {
   "cell_type": "markdown",
   "metadata": {},
   "source": [
    "#### Get only the first 2 customers name and age in your DB sorted by the age ascending. "
   ]
  },
  {
   "cell_type": "code",
   "execution_count": null,
   "metadata": {},
   "outputs": [],
   "source": [
    "two_customers= mydb.customer.find({}, {\"_id\":0,\n",
    "                                       \"name\":1,\n",
    "                                       \"age\":1}).limit(2).sort([(\"age\",1)])\n",
    "for customer in two_customers:\n",
    "    print(customer)"
   ]
  },
  {
   "cell_type": "markdown",
   "metadata": {},
   "source": [
    "### Aggregations\n",
    "\n",
    "#### For each gender, get the average of ages"
   ]
  },
  {
   "cell_type": "code",
   "execution_count": null,
   "metadata": {},
   "outputs": [],
   "source": [
    "agg_result= mydb.customer.aggregate([\n",
    "    {  \"$group\": {\"_id\":{\"gender\": \"$gender\"},\n",
    "                  \"average\": {\"$avg\":\"$age\"} }}])\n",
    "for gen_Avg_age in agg_result:\n",
    "    print(gen_Avg_age)"
   ]
  },
  {
   "cell_type": "markdown",
   "metadata": {},
   "source": [
    "#### Get the count of customers for each gennder"
   ]
  },
  {
   "cell_type": "code",
   "execution_count": null,
   "metadata": {},
   "outputs": [],
   "source": [
    "agg_result= ...#YOUR CODE HERE\n",
    "for gen_count in agg_result:\n",
    "    print(gen_count)"
   ]
  },
  {
   "cell_type": "markdown",
   "metadata": {},
   "source": [
    "## Update\n",
    "\n",
    "- The update() method is used to modify existing documents. - A compound document is passed as the argument to update()\n",
    "     - The first part of which is used to match those documents to which the change is to be applied.\n",
    "     - If you want to update something that was not matched, nothing will be modified then! \n",
    "     - The second part gives the details of the change."
   ]
  },
  {
   "cell_type": "markdown",
   "metadata": {},
   "source": [
    "#### Update the age of Tarun to be 25 instead of 75"
   ]
  },
  {
   "cell_type": "code",
   "execution_count": null,
   "metadata": {},
   "outputs": [],
   "source": [
    "tarun =mydb.customer.find_one({\"name\":\"Tarun\"}, {\"name\":1, \"age\":1, \"_id\":0}) \n",
    "print(tarun)\n",
    "\n",
    "mydb.customer.update({\"name\":\"Tarun\"},{\"$set\": {\"age\":25}  })\n",
    "\n",
    "tarun =mydb.customer.find_one({\"name\":\"Tarun\"}, {\"name\":1, \"age\":1, \"_id\":0}) \n",
    "print(tarun)"
   ]
  },
  {
   "cell_type": "markdown",
   "metadata": {},
   "source": [
    "#### What will happen if we don't specify the $set operator?!"
   ]
  },
  {
   "cell_type": "code",
   "execution_count": null,
   "metadata": {},
   "outputs": [],
   "source": [
    "tarun =mydb.customer.find_one({\"name\":\"Tarun\"}, {\"name\":1, \"age\":1, \"_id\":0}) \n",
    "print(tarun)\n",
    "\n",
    "mydb.customer.update({\"name\":\"Tarun\"},{\"age\":25})\n",
    "\n",
    "tarun =mydb.customer.find_one({\"name\":\"Tarun\"}, {\"name\":1, \"age\":1, \"_id\":0}) \n",
    "print(tarun)"
   ]
  },
  {
   "cell_type": "markdown",
   "metadata": {},
   "source": [
    "- The example above uses the `$set` modifier.\n",
    "- There are a number of other modifiers available like `$inc`, `$mul`, `$rename` and `$unset`."
   ]
  },
  {
   "cell_type": "markdown",
   "metadata": {},
   "source": [
    "#### Remove the attribute \"gender\" from the customer \"Riccardo\""
   ]
  },
  {
   "cell_type": "code",
   "execution_count": null,
   "metadata": {},
   "outputs": [],
   "source": [
    "ricc =mydb.customer.find_one({\"name\":\"Riccardo\"}, {\"_id\":0}) \n",
    "print(ricc)\n",
    "\n",
    "mydb.customer.update({\"name\":\"Riccardo\"},{\"$unset\": {\"gender\":1}  })\n",
    "\n",
    "ricc =mydb.customer.find_one({\"name\":\"Riccardo\"}, {\"_id\":0}) \n",
    "print(ricc)"
   ]
  },
  {
   "cell_type": "markdown",
   "metadata": {},
   "source": [
    "#### Adding the \"address\" attribute to an existing document "
   ]
  },
  {
   "cell_type": "code",
   "execution_count": null,
   "metadata": {},
   "outputs": [],
   "source": [
    "jane =mydb.customer.find_one({\"name\":\"Jane\"}, {\"_id\":0}) \n",
    "print(jane)\n",
    "\n",
    "address= {\n",
    "    \"street\": \"UUS 70\",\n",
    "    \"county\":\"Tartu\",\n",
    "    \"country\":\"Estonia\"\n",
    "}\n",
    "mydb.customer.update_one({\"name\":\"Jane\"},\n",
    "                         {\"$set\": {\"address\" :address }}, \n",
    "                         upsert=True)\n",
    "\n",
    "jane =mydb.customer.find_one({\"name\":\"Jane\"}, {\"_id\":0}) \n",
    "print(jane)"
   ]
  },
  {
   "cell_type": "markdown",
   "metadata": {},
   "source": [
    "#### Update the address of \"Jane\" changing the street to be 'Narva 99'"
   ]
  },
  {
   "cell_type": "code",
   "execution_count": null,
   "metadata": {},
   "outputs": [],
   "source": [
    "jane =mydb.customer.find_one({\"name\":\"Jane\"}, {\"_id\":0}) \n",
    "print(jane)\n",
    "\n",
    "\n",
    "#YOUR CODE HERE\n",
    "\n",
    "\n",
    "jane =mydb.customer.find_one({\"name\":\"Jane\"}, {\"_id\":0}) \n",
    "print(jane)"
   ]
  },
  {
   "cell_type": "markdown",
   "metadata": {},
   "source": [
    "## Delete"
   ]
  },
  {
   "cell_type": "markdown",
   "metadata": {},
   "source": [
    "- The functions delete_one(), and delete_many() are used to delete document(s) fromt MongoDB Collections."
   ]
  },
  {
   "cell_type": "markdown",
   "metadata": {},
   "source": [
    "#### Delete all the male customers from the DB!"
   ]
  },
  {
   "cell_type": "code",
   "execution_count": null,
   "metadata": {},
   "outputs": [],
   "source": [
    "print(\"\\n //////////////////BEFORE//////\")\n",
    "for cust in mydb.customer.find({}):\n",
    "    print(cust)\n",
    "mydb.customer.delete_many({\"gender\":\"male\"})\n",
    "\n",
    "print(\"\\n //////////////////AFTER//////\")\n",
    "\n",
    "for cust in mydb.customer.find({}):\n",
    "    print(cust)"
   ]
  },
  {
   "cell_type": "markdown",
   "metadata": {},
   "source": [
    "## THANK YOU"
   ]
  }
 ],
 "metadata": {
  "kernelspec": {
   "display_name": "Python 3.9.7 64-bit",
   "language": "python",
   "name": "python3"
  },
  "language_info": {
   "codemirror_mode": {
    "name": "ipython",
    "version": 3
   },
   "file_extension": ".py",
   "mimetype": "text/x-python",
   "name": "python",
   "nbconvert_exporter": "python",
   "pygments_lexer": "ipython3",
   "version": "3.9.7"
  },
  "vscode": {
   "interpreter": {
    "hash": "14546760c827fd72838203d07fc6082afc8b5bae4fd1bdec1330a454e4872fe6"
   }
  }
 },
 "nbformat": 4,
 "nbformat_minor": 2
}
