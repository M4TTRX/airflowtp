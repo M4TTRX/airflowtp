{
 "cells": [
  {
   "cell_type": "markdown",
   "metadata": {},
   "source": [
    "# Data Wrangling Homework"
   ]
  },
  {
   "cell_type": "markdown",
   "metadata": {},
   "source": [
    "We have three files that describe some data of mobile phones.\n",
    "- Mobile data 1.csv: This file contains\n",
    "    - id - ID\n",
    "    - battery_power - Total energy a battery can store in one time measured in mAh\n",
    "    - blue - Has bluetooth or not\n",
    "    - clock_speed - speed at which microprocessor executes instructions\n",
    "    - dual_sim - Has dual sim support or not\n",
    "    - fc - Front Camera mega pixels\n",
    "    - four_g - Has 4G or not\n",
    "    - int_memory - Internal Memory in Gigabytes\n",
    "    - m_dep - Mobile Depth in cm\n",
    "    - mobile_wt - Weight of mobile phone\n",
    "    - n_cores - Number of cores of processor\n",
    "    - pc - Primary Camera mega pixels\n",
    "    - px_height - Pixel Resolution Height\n",
    "    - px_width - Pixel Resolution Width\n",
    "    - ram - Random Access Memory in Megabytes\n",
    "    - sc_h - Screen Height of mobile in cm\n",
    "    - sc_w - Screen Width of mobile in cm\n",
    "    - talk_time - longest time that a single battery charge will last when you are\n",
    "    - three_g - Has 3G or not\n",
    "    - touch_screen - Has touch screen or not\n",
    "    - wifi - Has wifi or not\n",
    "    - price_range - This is the target variable with value of 0(low cost), 1(medium cost), 2(high cost) and 3(very high cost).\n",
    "- Mobile data 2.csv: This file contains\n",
    "    - ID\t\n",
    "    - Brand\t- the make of the phone, e.g., Apple, Samsunig, Ericsson, etc.\n",
    "    - Phone\t- the model fo the phone, e.g. iPhone 12\n",
    "    - Picture URL small - a hyperlink to an image of the phone\n",
    "    - Body Dimensions - this is compound value that is not uniform. It contains  w x h x d in both mm and inches\n",
    "    - Body Weight - the information is given also in grams and lb but also for several configurations\n",
    "    - Display Resolution - this column combines different values of w x h pixels, screen ratio and pixel density\n",
    "- Price ranges.csv - simple file that contains the range id and the min and max value for each range"
   ]
  },
  {
   "cell_type": "markdown",
   "metadata": {},
   "source": [
    "### Our objective is to merge the data into one data set that looks like the one below."
   ]
  },
  {
   "cell_type": "code",
   "execution_count": 292,
   "metadata": {},
   "outputs": [
    {
     "data": {
      "text/html": [
       "<div>\n",
       "<style scoped>\n",
       "    .dataframe tbody tr th:only-of-type {\n",
       "        vertical-align: middle;\n",
       "    }\n",
       "\n",
       "    .dataframe tbody tr th {\n",
       "        vertical-align: top;\n",
       "    }\n",
       "\n",
       "    .dataframe thead th {\n",
       "        text-align: right;\n",
       "    }\n",
       "</style>\n",
       "<table border=\"1\" class=\"dataframe\">\n",
       "  <thead>\n",
       "    <tr style=\"text-align: right;\">\n",
       "      <th></th>\n",
       "      <th>battery_power</th>\n",
       "      <th>clock_speed</th>\n",
       "      <th>fc_megapixel</th>\n",
       "      <th>int_memory</th>\n",
       "      <th>m_depth</th>\n",
       "      <th>mobile_wt</th>\n",
       "      <th>n_cores</th>\n",
       "      <th>pc_megapixel</th>\n",
       "      <th>px_height</th>\n",
       "      <th>px_width</th>\n",
       "      <th>ram</th>\n",
       "      <th>sc_h</th>\n",
       "      <th>sc_w</th>\n",
       "      <th>talk_time</th>\n",
       "      <th>id</th>\n",
       "      <th>phone_id</th>\n",
       "      <th>bluetooth</th>\n",
       "      <th>dual_sim</th>\n",
       "      <th>four_g</th>\n",
       "      <th>three_g</th>\n",
       "      <th>touch_screen</th>\n",
       "      <th>wifi</th>\n",
       "      <th>price_range</th>\n",
       "      <th>ID</th>\n",
       "      <th>Brand</th>\n",
       "      <th>Phone</th>\n",
       "      <th>BodyDimensions</th>\n",
       "      <th>BodyWeight</th>\n",
       "      <th>DisplayResolution</th>\n",
       "      <th>WeightInGrams</th>\n",
       "      <th>Config</th>\n",
       "      <th>Weight</th>\n",
       "      <th>Height</th>\n",
       "      <th>Width</th>\n",
       "      <th>Depth</th>\n",
       "      <th>price_range_r</th>\n",
       "      <th>Min</th>\n",
       "      <th>Max</th>\n",
       "    </tr>\n",
       "  </thead>\n",
       "  <tbody>\n",
       "    <tr>\n",
       "      <th>19</th>\n",
       "      <td>682</td>\n",
       "      <td>0.5</td>\n",
       "      <td>4.0</td>\n",
       "      <td>19</td>\n",
       "      <td>1.0</td>\n",
       "      <td>121.0</td>\n",
       "      <td>4</td>\n",
       "      <td>11</td>\n",
       "      <td>902</td>\n",
       "      <td>1064</td>\n",
       "      <td>2337.0</td>\n",
       "      <td>11</td>\n",
       "      <td>1</td>\n",
       "      <td>18</td>\n",
       "      <td>20</td>\n",
       "      <td>115</td>\n",
       "      <td>1</td>\n",
       "      <td>0</td>\n",
       "      <td>0</td>\n",
       "      <td>0</td>\n",
       "      <td>1</td>\n",
       "      <td>1</td>\n",
       "      <td>1</td>\n",
       "      <td>115</td>\n",
       "      <td>Ericsson</td>\n",
       "      <td>Ericsson T10s</td>\n",
       "      <td>105 x 49 x 24 mm (4.13 x 1.93 x 0.94 in);</td>\n",
       "      <td>135 g (4.76 oz);</td>\n",
       "      <td>101 x 33 pixels, 3 x 12 chars;</td>\n",
       "      <td>135</td>\n",
       "      <td>Standard</td>\n",
       "      <td>135</td>\n",
       "      <td>105</td>\n",
       "      <td>49</td>\n",
       "      <td>24</td>\n",
       "      <td>1</td>\n",
       "      <td>501</td>\n",
       "      <td>700</td>\n",
       "    </tr>\n",
       "    <tr>\n",
       "      <th>22</th>\n",
       "      <td>1949</td>\n",
       "      <td>2.6</td>\n",
       "      <td>4.0</td>\n",
       "      <td>47</td>\n",
       "      <td>0.3</td>\n",
       "      <td>199.0</td>\n",
       "      <td>4</td>\n",
       "      <td>7</td>\n",
       "      <td>407</td>\n",
       "      <td>822</td>\n",
       "      <td>1433.0</td>\n",
       "      <td>11</td>\n",
       "      <td>5</td>\n",
       "      <td>20</td>\n",
       "      <td>23</td>\n",
       "      <td>118</td>\n",
       "      <td>0</td>\n",
       "      <td>1</td>\n",
       "      <td>0</td>\n",
       "      <td>0</td>\n",
       "      <td>0</td>\n",
       "      <td>1</td>\n",
       "      <td>1</td>\n",
       "      <td>118</td>\n",
       "      <td>Ericsson</td>\n",
       "      <td>Ericsson T28 World</td>\n",
       "      <td>97 x 50 x 15 mm (3.82 x 1.97 x 0.59 in);</td>\n",
       "      <td>83 g (2.93 oz);</td>\n",
       "      <td>101 x 33 pixels, 3 x 12 chars;</td>\n",
       "      <td>83</td>\n",
       "      <td>Standard</td>\n",
       "      <td>83</td>\n",
       "      <td>97</td>\n",
       "      <td>50</td>\n",
       "      <td>15</td>\n",
       "      <td>1</td>\n",
       "      <td>501</td>\n",
       "      <td>700</td>\n",
       "    </tr>\n",
       "    <tr>\n",
       "      <th>42</th>\n",
       "      <td>1253</td>\n",
       "      <td>0.5</td>\n",
       "      <td>5.0</td>\n",
       "      <td>5</td>\n",
       "      <td>0.2</td>\n",
       "      <td>152.0</td>\n",
       "      <td>2</td>\n",
       "      <td>19</td>\n",
       "      <td>685</td>\n",
       "      <td>714</td>\n",
       "      <td>1878.0</td>\n",
       "      <td>15</td>\n",
       "      <td>0</td>\n",
       "      <td>4</td>\n",
       "      <td>43</td>\n",
       "      <td>2826</td>\n",
       "      <td>1</td>\n",
       "      <td>1</td>\n",
       "      <td>1</td>\n",
       "      <td>1</td>\n",
       "      <td>1</td>\n",
       "      <td>0</td>\n",
       "      <td>1</td>\n",
       "      <td>2826</td>\n",
       "      <td>Apple</td>\n",
       "      <td>Apple iPhone 3GS</td>\n",
       "      <td>115.5 x 62.1 x 12.3 mm (4.55 x 2.44 x 0.48 in);</td>\n",
       "      <td>135 g (4.76 oz);</td>\n",
       "      <td>320 x 480 pixels, 3:2 ratio (~165 ppi density);</td>\n",
       "      <td>135</td>\n",
       "      <td>Standard</td>\n",
       "      <td>135</td>\n",
       "      <td>115.5</td>\n",
       "      <td>62.1</td>\n",
       "      <td>12.3</td>\n",
       "      <td>1</td>\n",
       "      <td>501</td>\n",
       "      <td>700</td>\n",
       "    </tr>\n",
       "    <tr>\n",
       "      <th>43</th>\n",
       "      <td>1656</td>\n",
       "      <td>1.0</td>\n",
       "      <td>5.0</td>\n",
       "      <td>34</td>\n",
       "      <td>0.1</td>\n",
       "      <td>166.0</td>\n",
       "      <td>3</td>\n",
       "      <td>7</td>\n",
       "      <td>880</td>\n",
       "      <td>1456</td>\n",
       "      <td>1629.0</td>\n",
       "      <td>15</td>\n",
       "      <td>12</td>\n",
       "      <td>14</td>\n",
       "      <td>44</td>\n",
       "      <td>3275</td>\n",
       "      <td>0</td>\n",
       "      <td>0</td>\n",
       "      <td>1</td>\n",
       "      <td>1</td>\n",
       "      <td>1</td>\n",
       "      <td>0</td>\n",
       "      <td>1</td>\n",
       "      <td>3275</td>\n",
       "      <td>Apple</td>\n",
       "      <td>Apple iPhone 4</td>\n",
       "      <td>115.2 x 58.6 x 9.3 mm (4.54 x 2.31 x 0.37 in);</td>\n",
       "      <td>137 g (4.83 oz);</td>\n",
       "      <td>640 x 960 pixels, 3:2 ratio (~330 ppi density);</td>\n",
       "      <td>137</td>\n",
       "      <td>Standard</td>\n",
       "      <td>137</td>\n",
       "      <td>115.2</td>\n",
       "      <td>58.6</td>\n",
       "      <td>9.3</td>\n",
       "      <td>1</td>\n",
       "      <td>501</td>\n",
       "      <td>700</td>\n",
       "    </tr>\n",
       "    <tr>\n",
       "      <th>45</th>\n",
       "      <td>1514</td>\n",
       "      <td>2.9</td>\n",
       "      <td>0.0</td>\n",
       "      <td>27</td>\n",
       "      <td>0.2</td>\n",
       "      <td>118.0</td>\n",
       "      <td>3</td>\n",
       "      <td>1</td>\n",
       "      <td>186</td>\n",
       "      <td>1810</td>\n",
       "      <td>1152.0</td>\n",
       "      <td>8</td>\n",
       "      <td>3</td>\n",
       "      <td>20</td>\n",
       "      <td>46</td>\n",
       "      <td>3827</td>\n",
       "      <td>0</td>\n",
       "      <td>0</td>\n",
       "      <td>0</td>\n",
       "      <td>0</td>\n",
       "      <td>1</td>\n",
       "      <td>1</td>\n",
       "      <td>1</td>\n",
       "      <td>3827</td>\n",
       "      <td>Apple</td>\n",
       "      <td>Apple iPad Wi-Fi + 3G</td>\n",
       "      <td>242.8 x 189.7 x 13.4 mm (9.56 x 7.47 x 0.53 in);</td>\n",
       "      <td>730 g (1.61 lb);</td>\n",
       "      <td>768 x 1024 pixels, 4:3 ratio (~132 ppi density);</td>\n",
       "      <td>730</td>\n",
       "      <td>Standard</td>\n",
       "      <td>730</td>\n",
       "      <td>242.8</td>\n",
       "      <td>189.7</td>\n",
       "      <td>13.4</td>\n",
       "      <td>1</td>\n",
       "      <td>501</td>\n",
       "      <td>700</td>\n",
       "    </tr>\n",
       "  </tbody>\n",
       "</table>\n",
       "</div>"
      ],
      "text/plain": [
       "    battery_power  clock_speed  fc_megapixel  int_memory  m_depth  mobile_wt  \\\n",
       "19            682          0.5           4.0          19      1.0      121.0   \n",
       "22           1949          2.6           4.0          47      0.3      199.0   \n",
       "42           1253          0.5           5.0           5      0.2      152.0   \n",
       "43           1656          1.0           5.0          34      0.1      166.0   \n",
       "45           1514          2.9           0.0          27      0.2      118.0   \n",
       "\n",
       "    n_cores  pc_megapixel  px_height  px_width     ram  sc_h  sc_w  talk_time  \\\n",
       "19        4            11        902      1064  2337.0    11     1         18   \n",
       "22        4             7        407       822  1433.0    11     5         20   \n",
       "42        2            19        685       714  1878.0    15     0          4   \n",
       "43        3             7        880      1456  1629.0    15    12         14   \n",
       "45        3             1        186      1810  1152.0     8     3         20   \n",
       "\n",
       "    id  phone_id  bluetooth  dual_sim  four_g  three_g  touch_screen  wifi  \\\n",
       "19  20       115          1         0       0        0             1     1   \n",
       "22  23       118          0         1       0        0             0     1   \n",
       "42  43      2826          1         1       1        1             1     0   \n",
       "43  44      3275          0         0       1        1             1     0   \n",
       "45  46      3827          0         0       0        0             1     1   \n",
       "\n",
       "    price_range    ID     Brand                  Phone  \\\n",
       "19            1   115  Ericsson          Ericsson T10s   \n",
       "22            1   118  Ericsson     Ericsson T28 World   \n",
       "42            1  2826     Apple       Apple iPhone 3GS   \n",
       "43            1  3275     Apple         Apple iPhone 4   \n",
       "45            1  3827     Apple  Apple iPad Wi-Fi + 3G   \n",
       "\n",
       "                                      BodyDimensions        BodyWeight  \\\n",
       "19         105 x 49 x 24 mm (4.13 x 1.93 x 0.94 in);  135 g (4.76 oz);   \n",
       "22          97 x 50 x 15 mm (3.82 x 1.97 x 0.59 in);   83 g (2.93 oz);   \n",
       "42   115.5 x 62.1 x 12.3 mm (4.55 x 2.44 x 0.48 in);  135 g (4.76 oz);   \n",
       "43    115.2 x 58.6 x 9.3 mm (4.54 x 2.31 x 0.37 in);  137 g (4.83 oz);   \n",
       "45  242.8 x 189.7 x 13.4 mm (9.56 x 7.47 x 0.53 in);  730 g (1.61 lb);   \n",
       "\n",
       "                                   DisplayResolution WeightInGrams    Config  \\\n",
       "19                    101 x 33 pixels, 3 x 12 chars;           135  Standard   \n",
       "22                    101 x 33 pixels, 3 x 12 chars;            83  Standard   \n",
       "42   320 x 480 pixels, 3:2 ratio (~165 ppi density);           135  Standard   \n",
       "43   640 x 960 pixels, 3:2 ratio (~330 ppi density);           137  Standard   \n",
       "45  768 x 1024 pixels, 4:3 ratio (~132 ppi density);           730  Standard   \n",
       "\n",
       "   Weight Height  Width Depth  price_range_r  Min  Max  \n",
       "19    135    105     49    24              1  501  700  \n",
       "22     83     97     50    15              1  501  700  \n",
       "42    135  115.5   62.1  12.3              1  501  700  \n",
       "43    137  115.2   58.6   9.3              1  501  700  \n",
       "45    730  242.8  189.7  13.4              1  501  700  "
      ]
     },
     "execution_count": 292,
     "metadata": {},
     "output_type": "execute_result"
    }
   ],
   "source": [
    "## DO NOT RUN ME"
   ]
  },
  {
   "cell_type": "markdown",
   "metadata": {},
   "source": [
    "Notably, some renaming will be necessary to obtain the same schema."
   ]
  },
  {
   "cell_type": "markdown",
   "metadata": {},
   "source": [
    "#### Is it possible as they are?"
   ]
  },
  {
   "cell_type": "markdown",
   "metadata": {},
   "source": [
    "### First, we have to make some pre-processing on some of the individual files\n",
    "\n",
    "For instance, we need to make the following pre-processing (transformations) on  mobile data 1.csv,\n",
    "- Remove duplicates\n",
    "- Rename columns\n",
    "- Handle missing data (this will be revisited with more details when talking about data cleansing)\n",
    " - Just drop the rows\n",
    " - Fill with some neighbor value\n",
    " - Fill with some statistical value (mean or median)\n",
    "- Handling outliers\n",
    "- Standardizing the data\n",
    "\n",
    "For mobile data 2.csv, we need to make the following pre-processing (transformations)\n",
    "\n",
    "- Out of the Body dimensions column, we need to extract three columns: Width, Height, Depth all in mm. **This is a one to one transformation.**\n",
    "- Out of the Body weight, we need to extract the weight in grams for each possible offering. For example, for iPads, ones that come with WiFi only have a different weight different from those that come with additional 4G support. **This is a one to many transformation**"
   ]
  },
  {
   "cell_type": "code",
   "execution_count": null,
   "metadata": {},
   "outputs": [],
   "source": [
    "%config Completer.use_jedi = False #Enable Autocompletion"
   ]
  },
  {
   "cell_type": "code",
   "execution_count": null,
   "metadata": {},
   "outputs": [],
   "source": [
    "import pandas as pd\n",
    "import numpy as np\n",
    "from matplotlib import pyplot as plt\n",
    "import seaborn as sns # better visualization tool\n",
    "from sklearn.preprocessing import StandardScaler\n",
    "%matplotlib inline\n"
   ]
  },
  {
   "cell_type": "code",
   "execution_count": null,
   "metadata": {},
   "outputs": [],
   "source": [
    "pd"
   ]
  },
  {
   "cell_type": "markdown",
   "metadata": {},
   "source": [
    "## Pre-processing the first data set\n",
    "\n",
    "### Profiling\n",
    "First we do some generic profiling. We check the shape, the data types, the columns and a general statistical description of the data."
   ]
  },
  {
   "cell_type": "code",
   "execution_count": 297,
   "metadata": {},
   "outputs": [],
   "source": [
    "# load mobile_data_1.csv in a pandas dataframe\n",
    "data_1 = pd.read_csv('./data/input/mobile_data_1.csv')"
   ]
  },
  {
   "cell_type": "code",
   "execution_count": 298,
   "metadata": {},
   "outputs": [
    {
     "data": {
      "text/html": [
       "<div>\n",
       "<style scoped>\n",
       "    .dataframe tbody tr th:only-of-type {\n",
       "        vertical-align: middle;\n",
       "    }\n",
       "\n",
       "    .dataframe tbody tr th {\n",
       "        vertical-align: top;\n",
       "    }\n",
       "\n",
       "    .dataframe thead th {\n",
       "        text-align: right;\n",
       "    }\n",
       "</style>\n",
       "<table border=\"1\" class=\"dataframe\">\n",
       "  <thead>\n",
       "    <tr style=\"text-align: right;\">\n",
       "      <th></th>\n",
       "      <th>id</th>\n",
       "      <th>phone_id</th>\n",
       "      <th>battery_power</th>\n",
       "      <th>blue</th>\n",
       "      <th>clock_speed</th>\n",
       "      <th>dual_sim</th>\n",
       "      <th>fc</th>\n",
       "      <th>four_g</th>\n",
       "      <th>int_memory</th>\n",
       "      <th>m_dep</th>\n",
       "      <th>mobile_wt</th>\n",
       "      <th>n_cores</th>\n",
       "      <th>pc</th>\n",
       "      <th>px_height</th>\n",
       "      <th>px_width</th>\n",
       "      <th>ram</th>\n",
       "      <th>sc_h</th>\n",
       "      <th>sc_w</th>\n",
       "      <th>talk_time</th>\n",
       "      <th>three_g</th>\n",
       "      <th>touch_screen</th>\n",
       "      <th>wifi</th>\n",
       "      <th>price_range</th>\n",
       "    </tr>\n",
       "  </thead>\n",
       "  <tbody>\n",
       "    <tr>\n",
       "      <th>0</th>\n",
       "      <td>1</td>\n",
       "      <td>96</td>\n",
       "      <td>842</td>\n",
       "      <td>0</td>\n",
       "      <td>2.2</td>\n",
       "      <td>0</td>\n",
       "      <td>1.0</td>\n",
       "      <td>0</td>\n",
       "      <td>7</td>\n",
       "      <td>0.6</td>\n",
       "      <td>188.0</td>\n",
       "      <td>2</td>\n",
       "      <td>2</td>\n",
       "      <td>20</td>\n",
       "      <td>756</td>\n",
       "      <td>2549.0</td>\n",
       "      <td>9</td>\n",
       "      <td>7</td>\n",
       "      <td>19</td>\n",
       "      <td>0</td>\n",
       "      <td>0</td>\n",
       "      <td>1</td>\n",
       "      <td>1</td>\n",
       "    </tr>\n",
       "    <tr>\n",
       "      <th>1</th>\n",
       "      <td>2</td>\n",
       "      <td>97</td>\n",
       "      <td>1021</td>\n",
       "      <td>1</td>\n",
       "      <td>0.5</td>\n",
       "      <td>1</td>\n",
       "      <td>NaN</td>\n",
       "      <td>1</td>\n",
       "      <td>53</td>\n",
       "      <td>0.7</td>\n",
       "      <td>136.0</td>\n",
       "      <td>3</td>\n",
       "      <td>6</td>\n",
       "      <td>905</td>\n",
       "      <td>1988</td>\n",
       "      <td>NaN</td>\n",
       "      <td>17</td>\n",
       "      <td>3</td>\n",
       "      <td>7</td>\n",
       "      <td>1</td>\n",
       "      <td>1</td>\n",
       "      <td>0</td>\n",
       "      <td>2</td>\n",
       "    </tr>\n",
       "    <tr>\n",
       "      <th>2</th>\n",
       "      <td>3</td>\n",
       "      <td>98</td>\n",
       "      <td>563</td>\n",
       "      <td>1</td>\n",
       "      <td>0.5</td>\n",
       "      <td>1</td>\n",
       "      <td>2.0</td>\n",
       "      <td>1</td>\n",
       "      <td>41</td>\n",
       "      <td>0.9</td>\n",
       "      <td>NaN</td>\n",
       "      <td>5</td>\n",
       "      <td>6</td>\n",
       "      <td>1263</td>\n",
       "      <td>1716</td>\n",
       "      <td>2603.0</td>\n",
       "      <td>11</td>\n",
       "      <td>2</td>\n",
       "      <td>9</td>\n",
       "      <td>1</td>\n",
       "      <td>1</td>\n",
       "      <td>0</td>\n",
       "      <td>2</td>\n",
       "    </tr>\n",
       "    <tr>\n",
       "      <th>3</th>\n",
       "      <td>4</td>\n",
       "      <td>99</td>\n",
       "      <td>615</td>\n",
       "      <td>1</td>\n",
       "      <td>2.5</td>\n",
       "      <td>0</td>\n",
       "      <td>NaN</td>\n",
       "      <td>0</td>\n",
       "      <td>10</td>\n",
       "      <td>0.8</td>\n",
       "      <td>131.0</td>\n",
       "      <td>6</td>\n",
       "      <td>9</td>\n",
       "      <td>1216</td>\n",
       "      <td>1786</td>\n",
       "      <td>2769.0</td>\n",
       "      <td>16</td>\n",
       "      <td>8</td>\n",
       "      <td>11</td>\n",
       "      <td>1</td>\n",
       "      <td>0</td>\n",
       "      <td>0</td>\n",
       "      <td>2</td>\n",
       "    </tr>\n",
       "    <tr>\n",
       "      <th>4</th>\n",
       "      <td>5</td>\n",
       "      <td>100</td>\n",
       "      <td>1821</td>\n",
       "      <td>1</td>\n",
       "      <td>1.2</td>\n",
       "      <td>0</td>\n",
       "      <td>13.0</td>\n",
       "      <td>1</td>\n",
       "      <td>44</td>\n",
       "      <td>NaN</td>\n",
       "      <td>141.0</td>\n",
       "      <td>2</td>\n",
       "      <td>14</td>\n",
       "      <td>1208</td>\n",
       "      <td>1212</td>\n",
       "      <td>1411.0</td>\n",
       "      <td>8</td>\n",
       "      <td>2</td>\n",
       "      <td>15</td>\n",
       "      <td>1</td>\n",
       "      <td>1</td>\n",
       "      <td>0</td>\n",
       "      <td>1</td>\n",
       "    </tr>\n",
       "  </tbody>\n",
       "</table>\n",
       "</div>"
      ],
      "text/plain": [
       "   id  phone_id  battery_power  blue  clock_speed  dual_sim    fc  four_g  \\\n",
       "0   1        96            842     0          2.2         0   1.0       0   \n",
       "1   2        97           1021     1          0.5         1   NaN       1   \n",
       "2   3        98            563     1          0.5         1   2.0       1   \n",
       "3   4        99            615     1          2.5         0   NaN       0   \n",
       "4   5       100           1821     1          1.2         0  13.0       1   \n",
       "\n",
       "   int_memory  m_dep  mobile_wt  n_cores  pc  px_height  px_width     ram  \\\n",
       "0           7    0.6      188.0        2   2         20       756  2549.0   \n",
       "1          53    0.7      136.0        3   6        905      1988     NaN   \n",
       "2          41    0.9        NaN        5   6       1263      1716  2603.0   \n",
       "3          10    0.8      131.0        6   9       1216      1786  2769.0   \n",
       "4          44    NaN      141.0        2  14       1208      1212  1411.0   \n",
       "\n",
       "   sc_h  sc_w  talk_time  three_g  touch_screen  wifi  price_range  \n",
       "0     9     7         19        0             0     1            1  \n",
       "1    17     3          7        1             1     0            2  \n",
       "2    11     2          9        1             1     0            2  \n",
       "3    16     8         11        1             0     0            2  \n",
       "4     8     2         15        1             1     0            1  "
      ]
     },
     "execution_count": 298,
     "metadata": {},
     "output_type": "execute_result"
    }
   ],
   "source": [
    "data_1.head()"
   ]
  },
  {
   "cell_type": "code",
   "execution_count": null,
   "metadata": {},
   "outputs": [],
   "source": [
    "# check amount of rows and columns\n",
    "data_1.shape"
   ]
  },
  {
   "cell_type": "code",
   "execution_count": null,
   "metadata": {},
   "outputs": [],
   "source": [
    "# check their types"
   ]
  },
  {
   "cell_type": "code",
   "execution_count": null,
   "metadata": {},
   "outputs": [],
   "source": [
    "data_1.dtypes"
   ]
  },
  {
   "cell_type": "code",
   "execution_count": null,
   "metadata": {},
   "outputs": [],
   "source": [
    "# Observe the dataset main statistics (visualize it)"
   ]
  },
  {
   "cell_type": "code",
   "execution_count": null,
   "metadata": {},
   "outputs": [],
   "source": [
    "data_1.describe()"
   ]
  },
  {
   "cell_type": "code",
   "execution_count": null,
   "metadata": {},
   "outputs": [],
   "source": []
  },
  {
   "cell_type": "code",
   "execution_count": null,
   "metadata": {},
   "outputs": [],
   "source": [
    "# check how much memory does the dataframe consume\n",
    "data_1.info()\n",
    "# if column contains \"object\" data types, use .info(memory_usage='deep')"
   ]
  },
  {
   "cell_type": "code",
   "execution_count": null,
   "metadata": {},
   "outputs": [],
   "source": [
    "# explore the datasets first and last elements"
   ]
  },
  {
   "cell_type": "code",
   "execution_count": null,
   "metadata": {},
   "outputs": [],
   "source": [
    "data_1.head()"
   ]
  },
  {
   "cell_type": "code",
   "execution_count": null,
   "metadata": {},
   "outputs": [],
   "source": [
    "data_1.columns"
   ]
  },
  {
   "cell_type": "code",
   "execution_count": null,
   "metadata": {},
   "outputs": [],
   "source": [
    "# NB - notice when you overwrite the existing dataframe, or when are you creating a new df\n",
    "data_1 = data_1.rename(columns = {'blue' : 'bluetooth', \n",
    "                              'fc' : 'fc_megapixel',\n",
    "                              'pc' : 'pc_megapixel',\n",
    "                              'm_dep' : 'm_depth'})"
   ]
  },
  {
   "cell_type": "code",
   "execution_count": null,
   "metadata": {},
   "outputs": [],
   "source": [
    "data_1.head()"
   ]
  },
  {
   "cell_type": "code",
   "execution_count": null,
   "metadata": {},
   "outputs": [],
   "source": [
    "# modify display behaviour\n",
    "pd.get_option('display.max_columns')"
   ]
  },
  {
   "cell_type": "code",
   "execution_count": null,
   "metadata": {},
   "outputs": [],
   "source": [
    "pd.set_option('display.max_columns', None)"
   ]
  },
  {
   "cell_type": "code",
   "execution_count": null,
   "metadata": {},
   "outputs": [],
   "source": [
    "data_1.head()"
   ]
  },
  {
   "cell_type": "code",
   "execution_count": null,
   "metadata": {},
   "outputs": [],
   "source": [
    "data_1.sample(100)"
   ]
  },
  {
   "cell_type": "markdown",
   "metadata": {},
   "source": [
    "### Handling duplicates"
   ]
  },
  {
   "cell_type": "code",
   "execution_count": null,
   "metadata": {},
   "outputs": [],
   "source": [
    "# remove douplicates from the dataset."
   ]
  },
  {
   "cell_type": "code",
   "execution_count": null,
   "metadata": {},
   "outputs": [],
   "source": [
    "dupes = "
   ]
  },
  {
   "cell_type": "code",
   "execution_count": null,
   "metadata": {},
   "outputs": [],
   "source": [
    "dupes.head()"
   ]
  },
  {
   "cell_type": "code",
   "execution_count": null,
   "metadata": {},
   "outputs": [],
   "source": [
    "data_1 = "
   ]
  },
  {
   "cell_type": "markdown",
   "metadata": {},
   "source": [
    "### Handling Missing Data"
   ]
  },
  {
   "cell_type": "code",
   "execution_count": null,
   "metadata": {},
   "outputs": [],
   "source": [
    "# Identify what fields have null values (count)"
   ]
  },
  {
   "cell_type": "code",
   "execution_count": null,
   "metadata": {},
   "outputs": [],
   "source": []
  },
  {
   "cell_type": "markdown",
   "metadata": {},
   "source": [
    "You should have identified different columns, i.e., fc_megapixel, m_depth, mobile_wt, ram.\n",
    "Each requires a different method to be repaired. The colum is indicated below."
   ]
  },
  {
   "cell_type": "code",
   "execution_count": null,
   "metadata": {},
   "outputs": [],
   "source": []
  },
  {
   "cell_type": "markdown",
   "metadata": {},
   "source": [
    "#### Replacing Nans with standard values (0) for (fc_megapixel)\n",
    "_data imputation_"
   ]
  },
  {
   "cell_type": "code",
   "execution_count": null,
   "metadata": {},
   "outputs": [],
   "source": [
    "data_1['<<Column Name>>'] = \n",
    "\n",
    "data_1.isnull().sum()"
   ]
  },
  {
   "cell_type": "code",
   "execution_count": null,
   "metadata": {},
   "outputs": [],
   "source": []
  },
  {
   "cell_type": "markdown",
   "metadata": {},
   "source": [
    "#### Filling Forward or Backward (ram)\n",
    "If we supply a method parameter to the fillna() method, we can fill forward or backward as we need. To fill forward, use the methods pad or fill, and to fill backward, use bfill and backfill.\n",
    "\n",
    "NB! Make sure this makes sense for your data."
   ]
  },
  {
   "cell_type": "code",
   "execution_count": null,
   "metadata": {},
   "outputs": [],
   "source": []
  },
  {
   "cell_type": "code",
   "execution_count": null,
   "metadata": {},
   "outputs": [],
   "source": []
  },
  {
   "cell_type": "code",
   "execution_count": null,
   "metadata": {},
   "outputs": [],
   "source": []
  },
  {
   "cell_type": "code",
   "execution_count": null,
   "metadata": {},
   "outputs": [],
   "source": [
    "data_1['<<Column Name>>'] = \n",
    "\n"
   ]
  },
  {
   "cell_type": "code",
   "execution_count": null,
   "metadata": {},
   "outputs": [],
   "source": []
  },
  {
   "cell_type": "code",
   "execution_count": null,
   "metadata": {},
   "outputs": [],
   "source": []
  },
  {
   "cell_type": "markdown",
   "metadata": {},
   "source": [
    "#### Replacing nan with median of the column (mobile_wt)"
   ]
  },
  {
   "cell_type": "code",
   "execution_count": null,
   "metadata": {},
   "outputs": [],
   "source": []
  },
  {
   "cell_type": "code",
   "execution_count": null,
   "metadata": {},
   "outputs": [],
   "source": [
    "data_1['<<Column Name>>'] = "
   ]
  },
  {
   "cell_type": "code",
   "execution_count": null,
   "metadata": {},
   "outputs": [],
   "source": []
  },
  {
   "cell_type": "markdown",
   "metadata": {},
   "source": [
    "#### Dropping Nans (m_depth)\n",
    "Could we do this before?\n"
   ]
  },
  {
   "cell_type": "code",
   "execution_count": null,
   "metadata": {},
   "outputs": [],
   "source": [
    "data_1 = "
   ]
  },
  {
   "cell_type": "code",
   "execution_count": null,
   "metadata": {},
   "outputs": [],
   "source": [
    "data_1.isnull().sum()"
   ]
  },
  {
   "cell_type": "code",
   "execution_count": null,
   "metadata": {},
   "outputs": [],
   "source": [
    "data_1.shape"
   ]
  },
  {
   "cell_type": "markdown",
   "metadata": {},
   "source": [
    "### Handling outliers\n",
    "Another type of profiling is to check for legitimate values and handling outliers. \n",
    "We need to do that with numerical values only, i.e., drop the non-numerical columns, but save them for rejoining them late"
   ]
  },
  {
   "cell_type": "code",
   "execution_count": null,
   "metadata": {},
   "outputs": [],
   "source": [
    "numerical_data = \n",
    "numerical_data.head()"
   ]
  },
  {
   "cell_type": "code",
   "execution_count": null,
   "metadata": {},
   "outputs": [],
   "source": [
    "categorical_data = \n",
    "categorical_data.head()"
   ]
  },
  {
   "cell_type": "code",
   "execution_count": null,
   "metadata": {},
   "outputs": [],
   "source": [
    "# A common way to visualize outliers is using boxplots. Explore by observing the \"ram\" column using seaborn (sns)"
   ]
  },
  {
   "cell_type": "code",
   "execution_count": null,
   "metadata": {},
   "outputs": [],
   "source": [
    "# view a single column's outliers\n",
    "sns.boxplot(data=numerical_data['ram'], orient = 'v')"
   ]
  },
  {
   "cell_type": "code",
   "execution_count": null,
   "metadata": {},
   "outputs": [],
   "source": [
    "# view all columns, again using seaborn (sns)\n",
    "bp = sns.boxplot(data = numerical_data)\n",
    "bp.set_xticklabels(bp.get_xticklabels(), rotation=90)"
   ]
  },
  {
   "cell_type": "markdown",
   "metadata": {},
   "source": [
    "To better visualize, you may want to standardize the values of the columns. You can use StandardScaler in sklearn.preprocessing"
   ]
  },
  {
   "cell_type": "code",
   "execution_count": null,
   "metadata": {},
   "outputs": [],
   "source": [
    "scaler = StandardScaler()\n",
    "scaled_array = scaler.fit_transform(numerical_data)"
   ]
  },
  {
   "cell_type": "code",
   "execution_count": null,
   "metadata": {},
   "outputs": [],
   "source": [
    "scaled_data = "
   ]
  },
  {
   "cell_type": "code",
   "execution_count": null,
   "metadata": {},
   "outputs": [],
   "source": [
    "scaled_data.head()"
   ]
  },
  {
   "cell_type": "code",
   "execution_count": null,
   "metadata": {},
   "outputs": [],
   "source": [
    "scaled_data.describe()"
   ]
  },
  {
   "cell_type": "code",
   "execution_count": null,
   "metadata": {},
   "outputs": [],
   "source": [
    "#Plot the scaled data"
   ]
  },
  {
   "cell_type": "markdown",
   "metadata": {},
   "source": [
    "#### Distinguish Outliers using IQR\n",
    "\n",
    "The distance between the ﬁrst and third quartiles is a simple measure of spread that gives the range covered by the middle half of the data. This distance is called the interquartile range (IQR) and is deﬁned as\n",
    "\n",
    "IQR = Q3 − Q1\n",
    "\n",
    "<p float=\"right\"><img src=\"./quartiles.png\" width=\"300\"/><img src=\"./box.png\" width=\"100\"/></p>\n",
    "\n",
    "\n",
    "Any object that is more than 1.5 × IQR smaller than Q1 or 1.5 × IQR larger than Q3 is treated as an outlier because the region between Q1 − 1.5 × IQR and Q3 + 1.5 × IQR contains 99.3% of the objects. The rationale is similar to using 3σ as the threshold for normal distribution.\n"
   ]
  },
  {
   "cell_type": "code",
   "execution_count": null,
   "metadata": {},
   "outputs": [],
   "source": [
    "# we can use Interquartile range (IQR) to distinguish outliers \n",
    "Q1 = \n",
    "Q3 = \n",
    "\n",
    "IQR = Q3 - Q1\n",
    "\n",
    "print(IQR)"
   ]
  },
  {
   "cell_type": "code",
   "execution_count": null,
   "metadata": {},
   "outputs": [],
   "source": [
    "outliers_removed_data = \n",
    "\n",
    "outliers_removed_data.shape"
   ]
  },
  {
   "cell_type": "code",
   "execution_count": null,
   "metadata": {},
   "outputs": [],
   "source": [
    "#Show the absence of outliers (boxplot)"
   ]
  },
  {
   "cell_type": "markdown",
   "metadata": {},
   "source": [
    "### Joing data back together"
   ]
  },
  {
   "cell_type": "code",
   "execution_count": null,
   "metadata": {},
   "outputs": [],
   "source": [
    "final_data_1 = \n",
    "final_data_1.head()"
   ]
  },
  {
   "cell_type": "markdown",
   "metadata": {},
   "source": [
    "### Write this part of the data to disk"
   ]
  },
  {
   "cell_type": "code",
   "execution_count": null,
   "metadata": {},
   "outputs": [],
   "source": [
    "final_data_1.to_csv('./data/output/mobile_data_1_cleaned.csv', index = False)"
   ]
  },
  {
   "cell_type": "markdown",
   "metadata": {},
   "source": [
    "## Pre-processing the second data set"
   ]
  },
  {
   "cell_type": "code",
   "execution_count": null,
   "metadata": {},
   "outputs": [],
   "source": [
    "data_2 = "
   ]
  },
  {
   "cell_type": "code",
   "execution_count": null,
   "metadata": {},
   "outputs": [],
   "source": [
    "data_2.head(30)"
   ]
  },
  {
   "cell_type": "markdown",
   "metadata": {},
   "source": [
    "We can observe that some of the columns have compound information, e.g. Body Dimension and Body Weight. Also, some records have meaningless data. Also, some columns are irrelevant to the analysis, like the Picture url.\n",
    "So, we will do the following.\n",
    "- Drop irrelevant columns, e.g. Picture url\n",
    "- Drop records with meaningless data. We can drop records for which columns like Body dimensions, Body weight and display resolution are less than 20 characters long.\n",
    "- Minor: some columns need renaming to meet the final schema (see above)\n",
    "\n"
   ]
  },
  {
   "cell_type": "code",
   "execution_count": null,
   "metadata": {},
   "outputs": [],
   "source": [
    "data_2 = #Dropping"
   ]
  },
  {
   "cell_type": "code",
   "execution_count": null,
   "metadata": {},
   "outputs": [],
   "source": [
    "data_2 = # Renaming"
   ]
  },
  {
   "cell_type": "code",
   "execution_count": null,
   "metadata": {},
   "outputs": [],
   "source": [
    "data_2.info(memory_usage='deep') #"
   ]
  },
  {
   "cell_type": "markdown",
   "metadata": {},
   "source": [
    "We can observe that Pandas is not able to infer the type on its own for the non-ID columns. "
   ]
  },
  {
   "cell_type": "code",
   "execution_count": null,
   "metadata": {},
   "outputs": [],
   "source": [
    "# Enforce the type str where is needed."
   ]
  },
  {
   "cell_type": "code",
   "execution_count": null,
   "metadata": {},
   "outputs": [],
   "source": [
    "data_2['Brand']= \n",
    "data_2['Phone']= ...\n",
    "#MORE?"
   ]
  },
  {
   "cell_type": "code",
   "execution_count": null,
   "metadata": {},
   "outputs": [],
   "source": [
    "# Remove data with missing information on Body Weight and Display Res (See below)"
   ]
  },
  {
   "cell_type": "code",
   "execution_count": 299,
   "metadata": {},
   "outputs": [
    {
     "data": {
      "text/html": [
       "<div>\n",
       "<style scoped>\n",
       "    .dataframe tbody tr th:only-of-type {\n",
       "        vertical-align: middle;\n",
       "    }\n",
       "\n",
       "    .dataframe tbody tr th {\n",
       "        vertical-align: top;\n",
       "    }\n",
       "\n",
       "    .dataframe thead th {\n",
       "        text-align: right;\n",
       "    }\n",
       "</style>\n",
       "<table border=\"1\" class=\"dataframe\">\n",
       "  <thead>\n",
       "    <tr style=\"text-align: right;\">\n",
       "      <th></th>\n",
       "      <th>ID</th>\n",
       "      <th>Brand</th>\n",
       "      <th>Phone</th>\n",
       "      <th>BodyDimensions</th>\n",
       "      <th>BodyWeight</th>\n",
       "      <th>DisplayResolution</th>\n",
       "    </tr>\n",
       "  </thead>\n",
       "  <tbody>\n",
       "    <tr>\n",
       "      <th>0</th>\n",
       "      <td>96</td>\n",
       "      <td>Ericsson</td>\n",
       "      <td>Ericsson GH 218</td>\n",
       "      <td>130 x 49 x 36 mm (5.12 x 1.93 x 1.42 in);</td>\n",
       "      <td>;</td>\n",
       "      <td>1 line;</td>\n",
       "    </tr>\n",
       "  </tbody>\n",
       "</table>\n",
       "</div>"
      ],
      "text/plain": [
       "   ID     Brand            Phone                             BodyDimensions  \\\n",
       "0  96  Ericsson  Ericsson GH 218  130 x 49 x 36 mm (5.12 x 1.93 x 1.42 in);   \n",
       "\n",
       "  BodyWeight DisplayResolution  \n",
       "0          ;           1 line;  "
      ]
     },
     "execution_count": 299,
     "metadata": {},
     "output_type": "execute_result"
    }
   ],
   "source": []
  },
  {
   "cell_type": "code",
   "execution_count": null,
   "metadata": {},
   "outputs": [],
   "source": [
    "meaningful_data_2 = "
   ]
  },
  {
   "cell_type": "code",
   "execution_count": null,
   "metadata": {},
   "outputs": [],
   "source": [
    "meaningful_data_2.head()"
   ]
  },
  {
   "cell_type": "code",
   "execution_count": null,
   "metadata": {},
   "outputs": [],
   "source": [
    "meaningful_data_2.shape "
   ]
  },
  {
   "cell_type": "markdown",
   "metadata": {},
   "source": [
    "We need to extract the weight as a new column for the value of grams only."
   ]
  },
  {
   "cell_type": "code",
   "execution_count": null,
   "metadata": {},
   "outputs": [],
   "source": [
    "# split the string describing the weight by the **g** character. You can use \"apply\" to split the data"
   ]
  },
  {
   "cell_type": "code",
   "execution_count": null,
   "metadata": {},
   "outputs": [],
   "source": [
    "WeightInGrams = "
   ]
  },
  {
   "cell_type": "code",
   "execution_count": null,
   "metadata": {},
   "outputs": [],
   "source": [
    "WeightInGrams"
   ]
  },
  {
   "cell_type": "code",
   "execution_count": null,
   "metadata": {},
   "outputs": [],
   "source": [
    "# Before assigning the separated data to the df, make a copy to avoid circular reference and/or making unwanted changes in previous dataframes\n",
    "meaningful_data_3 = meaningful_data_2.copy()"
   ]
  },
  {
   "cell_type": "code",
   "execution_count": null,
   "metadata": {},
   "outputs": [],
   "source": [
    "meaningful_data_3['WeightInGrams'] = WeightInGrams "
   ]
  },
  {
   "cell_type": "code",
   "execution_count": null,
   "metadata": {},
   "outputs": [],
   "source": [
    "meaningful_data_3.shape"
   ]
  },
  {
   "cell_type": "code",
   "execution_count": null,
   "metadata": {},
   "outputs": [],
   "source": [
    "meaningful_data_3.sample(100)"
   ]
  },
  {
   "cell_type": "markdown",
   "metadata": {},
   "source": [
    "We can notice in the original data that the ''BodyWeight'' column has actually multiple values. For example, we can find value like _331 g (Wi-Fi) / 341 g (3G/LTE) (11.68 oz);_. This means that there are different weights for different configurations. Our objective is to create a new row for each different weight and put another column called configuration."
   ]
  },
  {
   "cell_type": "markdown",
   "metadata": {},
   "source": [
    "One way is to first get those rows that have multiple weight values (split and count)"
   ]
  },
  {
   "cell_type": "code",
   "execution_count": null,
   "metadata": {},
   "outputs": [],
   "source": [
    "multiple_weight_phones = "
   ]
  },
  {
   "cell_type": "code",
   "execution_count": null,
   "metadata": {},
   "outputs": [],
   "source": [
    "multiple_weight_phones.shape"
   ]
  },
  {
   "cell_type": "code",
   "execution_count": null,
   "metadata": {},
   "outputs": [],
   "source": [
    "multiple_weight_phones"
   ]
  },
  {
   "cell_type": "markdown",
   "metadata": {},
   "source": [
    "What is wrong with the separating character. Sometimes is ',' sometimes is '/'. Can we uniform it before splitting? Also, we have another occurrence of '/' in some configurations e.g., (3G/LTE), which will complicate the splitting even further. Notably, the relevant occurrence of weight separators is followed by a space. Can we replace '/ ' with '//'. Hint: Use apply"
   ]
  },
  {
   "cell_type": "code",
   "execution_count": null,
   "metadata": {},
   "outputs": [],
   "source": [
    "unifiedSeparator = #Replace the values"
   ]
  },
  {
   "cell_type": "code",
   "execution_count": null,
   "metadata": {},
   "outputs": [],
   "source": [
    "unifiedSeparator.head()"
   ]
  },
  {
   "cell_type": "code",
   "execution_count": 300,
   "metadata": {},
   "outputs": [],
   "source": [
    "# Drop columns we no longer need."
   ]
  },
  {
   "cell_type": "code",
   "execution_count": null,
   "metadata": {},
   "outputs": [],
   "source": [
    "multiple_weight_phones = "
   ]
  },
  {
   "cell_type": "code",
   "execution_count": null,
   "metadata": {},
   "outputs": [],
   "source": [
    "multiple_weight_phones['BodyWeight'] = unifiedSeparator\n",
    "multiple_weight_phones.shape"
   ]
  },
  {
   "cell_type": "code",
   "execution_count": null,
   "metadata": {},
   "outputs": [],
   "source": [
    "multiple_weight_phones['BodyWeight']"
   ]
  },
  {
   "cell_type": "code",
   "execution_count": null,
   "metadata": {},
   "outputs": [],
   "source": [
    "# Split the new added column"
   ]
  },
  {
   "cell_type": "code",
   "execution_count": null,
   "metadata": {},
   "outputs": [],
   "source": [
    "multiple_weight_2 = \n",
    "# Careful! this is one of the few operation that does not cleare a dataframe, create one with a column named 'Config'\n",
    "multiple_weight_2 = \n",
    "multiple_weight_2"
   ]
  },
  {
   "cell_type": "code",
   "execution_count": null,
   "metadata": {},
   "outputs": [],
   "source": [
    "multiple_weights_3 = # Join data back together\n",
    "multiple_weights_3.head()"
   ]
  },
  {
   "cell_type": "code",
   "execution_count": null,
   "metadata": {},
   "outputs": [],
   "source": [
    "multiple_weights_3.columns"
   ]
  },
  {
   "cell_type": "code",
   "execution_count": null,
   "metadata": {},
   "outputs": [],
   "source": [
    "multiple_weights_3 = # drop useless columns\n",
    "multiple_weights_3.head()"
   ]
  },
  {
   "cell_type": "markdown",
   "metadata": {},
   "source": [
    "Now, we can split the config column to weight and config, again using apply"
   ]
  },
  {
   "cell_type": "code",
   "execution_count": null,
   "metadata": {},
   "outputs": [],
   "source": [
    "weight = #split\n",
    "weight.head()"
   ]
  },
  {
   "cell_type": "code",
   "execution_count": null,
   "metadata": {},
   "outputs": [],
   "source": [
    "config = #split\n",
    "config.head()"
   ]
  },
  {
   "cell_type": "code",
   "execution_count": null,
   "metadata": {},
   "outputs": [],
   "source": [
    "multiple_weights_3= # Drop config\n",
    "multiple_weights_3.columns"
   ]
  },
  {
   "cell_type": "code",
   "execution_count": null,
   "metadata": {},
   "outputs": [],
   "source": [
    "multiple_weights_3['Config'] = config"
   ]
  },
  {
   "cell_type": "code",
   "execution_count": null,
   "metadata": {},
   "outputs": [],
   "source": [
    "multiple_weights_3['Weight'] = weight "
   ]
  },
  {
   "cell_type": "markdown",
   "metadata": {},
   "source": [
    "We can finally join data back together , we can add a right suffix to distinguish the join key rsuffix='_multiple'"
   ]
  },
  {
   "cell_type": "code",
   "execution_count": null,
   "metadata": {},
   "outputs": [],
   "source": [
    "meaningful_data_4 = # left join back together "
   ]
  },
  {
   "cell_type": "code",
   "execution_count": null,
   "metadata": {},
   "outputs": [],
   "source": [
    "meaningful_data_4.sample(10)"
   ]
  },
  {
   "cell_type": "code",
   "execution_count": null,
   "metadata": {},
   "outputs": [],
   "source": [
    "meaningful_data_4 = # Drop the suffixed ID"
   ]
  },
  {
   "cell_type": "code",
   "execution_count": null,
   "metadata": {},
   "outputs": [],
   "source": [
    "meaningful_data_4.sample(10)"
   ]
  },
  {
   "cell_type": "code",
   "execution_count": null,
   "metadata": {},
   "outputs": [],
   "source": [
    "meaningful_data_4['Weight']# We can fille the values in this column with those in grams. "
   ]
  },
  {
   "cell_type": "code",
   "execution_count": null,
   "metadata": {},
   "outputs": [],
   "source": [
    "meaningful_data_4.sample(50)"
   ]
  },
  {
   "cell_type": "code",
   "execution_count": null,
   "metadata": {},
   "outputs": [],
   "source": [
    "meaningful_data_4 = # Drop the suffixed column"
   ]
  },
  {
   "cell_type": "code",
   "execution_count": null,
   "metadata": {},
   "outputs": [],
   "source": [
    "meaningful_data_4.head(20)"
   ]
  },
  {
   "cell_type": "markdown",
   "metadata": {},
   "source": [
    "Checking the dataframes held in memory"
   ]
  },
  {
   "cell_type": "code",
   "execution_count": null,
   "metadata": {},
   "outputs": [],
   "source": [
    "%whos DataFrame"
   ]
  },
  {
   "cell_type": "code",
   "execution_count": null,
   "metadata": {},
   "outputs": [],
   "source": [
    "# Find the memory footprint\n",
    "df_list = []    \n",
    "for var in dir():\n",
    "    if isinstance(locals()[var], pd.core.frame.DataFrame) and var[0] != '_':\n",
    "        df_list.append(var)    "
   ]
  },
  {
   "cell_type": "code",
   "execution_count": null,
   "metadata": {},
   "outputs": [],
   "source": [
    "memory_cons = 0\n",
    "for d in df_list:\n",
    "    memory_cons += locals()[d].memory_usage(deep=True).sum()\n",
    "\n",
    "print(f'Total memory consumed by dataframes: {round(memory_cons/1024/1024,1)} MB')"
   ]
  },
  {
   "cell_type": "markdown",
   "metadata": {},
   "source": [
    "#### Few More Steps\n",
    " "
   ]
  },
  {
   "cell_type": "code",
   "execution_count": null,
   "metadata": {},
   "outputs": [],
   "source": [
    "# Fill the empty \"Config\" column in the meaningful_data_4 dataframe with value \"Standard\"\n",
    "\n",
    "config_values = \n",
    "meaningful_data_5 = meaningful_data_4.copy() # make a copy like before\n"
   ]
  },
  {
   "cell_type": "code",
   "execution_count": null,
   "metadata": {},
   "outputs": [],
   "source": [
    "# Transform the body dimensions and get separate height, width, and depth dimensions in mm\n",
    "\n",
    "dimensions = # strip and split\n",
    "dimensions.head()"
   ]
  },
  {
   "cell_type": "code",
   "execution_count": null,
   "metadata": {},
   "outputs": [],
   "source": [
    "height_dim = \n",
    "width_dim =\n",
    "depth_dim = "
   ]
  },
  {
   "cell_type": "code",
   "execution_count": null,
   "metadata": {},
   "outputs": [],
   "source": [
    "height_dim.head()\n",
    "#width_dim.head()\n",
    "#depth_dim.head()"
   ]
  },
  {
   "cell_type": "code",
   "execution_count": null,
   "metadata": {},
   "outputs": [],
   "source": [
    "final_data_2 = # Join everything back together"
   ]
  },
  {
   "cell_type": "code",
   "execution_count": null,
   "metadata": {},
   "outputs": [],
   "source": [
    "final_data_2.head()"
   ]
  },
  {
   "cell_type": "code",
   "execution_count": null,
   "metadata": {},
   "outputs": [],
   "source": [
    "# Inner join the three data sets:\n",
    "## preprocessed mobile 1 dataset\n",
    "## preprocessed mobile 2 dataset\n",
    "## price ranges\n",
    "\n",
    "joined_data.head()"
   ]
  },
  {
   "cell_type": "code",
   "execution_count": 294,
   "metadata": {},
   "outputs": [
    {
     "data": {
      "text/plain": [
       "battery_power          int64\n",
       "clock_speed          float64\n",
       "fc_megapixel         float64\n",
       "int_memory             int64\n",
       "m_depth              float64\n",
       "mobile_wt            float64\n",
       "n_cores                int64\n",
       "pc_megapixel           int64\n",
       "px_height              int64\n",
       "px_width               int64\n",
       "ram                  float64\n",
       "sc_h                   int64\n",
       "sc_w                   int64\n",
       "talk_time              int64\n",
       "id                     int64\n",
       "phone_id               int64\n",
       "bluetooth              int64\n",
       "dual_sim               int64\n",
       "four_g                 int64\n",
       "three_g                int64\n",
       "touch_screen           int64\n",
       "wifi                   int64\n",
       "price_range            int64\n",
       "ID                     int64\n",
       "Brand                 object\n",
       "Phone                 object\n",
       "BodyDimensions        object\n",
       "BodyWeight            object\n",
       "DisplayResolution     object\n",
       "WeightInGrams         object\n",
       "Config                object\n",
       "Weight                object\n",
       "Height                object\n",
       "Width                 object\n",
       "Depth                 object\n",
       "price_range_r          int64\n",
       "Min                    int64\n",
       "Max                    int64\n",
       "dtype: object"
      ]
     },
     "execution_count": 294,
     "metadata": {},
     "output_type": "execute_result"
    }
   ],
   "source": [
    "joined_data.dtypes"
   ]
  },
  {
   "cell_type": "code",
   "execution_count": 295,
   "metadata": {},
   "outputs": [
    {
     "data": {
      "text/plain": [
       "(560, 38)"
      ]
     },
     "execution_count": 295,
     "metadata": {},
     "output_type": "execute_result"
    }
   ],
   "source": [
    "joined_data.shape"
   ]
  },
  {
   "cell_type": "code",
   "execution_count": null,
   "metadata": {},
   "outputs": [],
   "source": [
    "# Save the final data frame in a file 'ready_for_analysis.csv'\n",
    "\n",
    "joined_data.to_csv('./data/output/ready_for_analysis.csv')"
   ]
  },
  {
   "cell_type": "markdown",
   "metadata": {},
   "source": [
    "#### Check also:\n",
    "\n",
    "* <a href=\"https://pandas.pydata.org/docs/reference/index.html\">API reference</a>\n",
    "* <a href=\"https://pandas.pydata.org/Pandas_Cheat_Sheet.pdf\">Official cheat sheet</a>"
   ]
  }
 ],
 "metadata": {
  "kernelspec": {
   "display_name": "Python 3 (ipykernel)",
   "language": "python",
   "name": "python3"
  },
  "language_info": {
   "codemirror_mode": {
    "name": "ipython",
    "version": 3
   },
   "file_extension": ".py",
   "mimetype": "text/x-python",
   "name": "python",
   "nbconvert_exporter": "python",
   "pygments_lexer": "ipython3",
   "version": "3.10.6"
  },
  "vscode": {
   "interpreter": {
    "hash": "86a545e9c7c8a04a9f5ab582097b4968329114428a3fde0cf520c5aeef29910b"
   }
  }
 },
 "nbformat": 4,
 "nbformat_minor": 4
}
